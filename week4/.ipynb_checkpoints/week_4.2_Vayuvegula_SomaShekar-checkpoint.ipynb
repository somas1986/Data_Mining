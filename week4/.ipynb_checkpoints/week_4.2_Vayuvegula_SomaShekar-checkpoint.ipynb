{
 "cells": [
  {
   "cell_type": "markdown",
   "id": "d0a4c2e8",
   "metadata": {},
   "source": [
    "# Load the data as a Pandas data frame and ensure that it imported correctly."
   ]
  },
  {
   "cell_type": "code",
   "execution_count": 212,
   "id": "3a358545",
   "metadata": {},
   "outputs": [],
   "source": [
    "#Import libraries\n",
    "import numpy as np\n",
    "import pandas as pd\n",
    "import seaborn as sn\n",
    "import matplotlib.pyplot as plt"
   ]
  },
  {
   "cell_type": "code",
   "execution_count": 213,
   "id": "f974fefa",
   "metadata": {},
   "outputs": [],
   "source": [
    "#Load data using pandas dataframe\n",
    "df_auto = pd.read_csv(\"auto-mpg.csv\")"
   ]
  },
  {
   "cell_type": "code",
   "execution_count": 214,
   "id": "7a422678",
   "metadata": {},
   "outputs": [
    {
     "data": {
      "text/html": [
       "<div>\n",
       "<style scoped>\n",
       "    .dataframe tbody tr th:only-of-type {\n",
       "        vertical-align: middle;\n",
       "    }\n",
       "\n",
       "    .dataframe tbody tr th {\n",
       "        vertical-align: top;\n",
       "    }\n",
       "\n",
       "    .dataframe thead th {\n",
       "        text-align: right;\n",
       "    }\n",
       "</style>\n",
       "<table border=\"1\" class=\"dataframe\">\n",
       "  <thead>\n",
       "    <tr style=\"text-align: right;\">\n",
       "      <th></th>\n",
       "      <th>mpg</th>\n",
       "      <th>cylinders</th>\n",
       "      <th>displacement</th>\n",
       "      <th>horsepower</th>\n",
       "      <th>weight</th>\n",
       "      <th>acceleration</th>\n",
       "      <th>model year</th>\n",
       "      <th>origin</th>\n",
       "      <th>car name</th>\n",
       "    </tr>\n",
       "  </thead>\n",
       "  <tbody>\n",
       "    <tr>\n",
       "      <th>0</th>\n",
       "      <td>18.0</td>\n",
       "      <td>8</td>\n",
       "      <td>307.0</td>\n",
       "      <td>130</td>\n",
       "      <td>3504</td>\n",
       "      <td>12.0</td>\n",
       "      <td>70</td>\n",
       "      <td>1</td>\n",
       "      <td>chevrolet chevelle malibu</td>\n",
       "    </tr>\n",
       "    <tr>\n",
       "      <th>1</th>\n",
       "      <td>15.0</td>\n",
       "      <td>8</td>\n",
       "      <td>350.0</td>\n",
       "      <td>165</td>\n",
       "      <td>3693</td>\n",
       "      <td>11.5</td>\n",
       "      <td>70</td>\n",
       "      <td>1</td>\n",
       "      <td>buick skylark 320</td>\n",
       "    </tr>\n",
       "    <tr>\n",
       "      <th>2</th>\n",
       "      <td>18.0</td>\n",
       "      <td>8</td>\n",
       "      <td>318.0</td>\n",
       "      <td>150</td>\n",
       "      <td>3436</td>\n",
       "      <td>11.0</td>\n",
       "      <td>70</td>\n",
       "      <td>1</td>\n",
       "      <td>plymouth satellite</td>\n",
       "    </tr>\n",
       "    <tr>\n",
       "      <th>3</th>\n",
       "      <td>16.0</td>\n",
       "      <td>8</td>\n",
       "      <td>304.0</td>\n",
       "      <td>150</td>\n",
       "      <td>3433</td>\n",
       "      <td>12.0</td>\n",
       "      <td>70</td>\n",
       "      <td>1</td>\n",
       "      <td>amc rebel sst</td>\n",
       "    </tr>\n",
       "    <tr>\n",
       "      <th>4</th>\n",
       "      <td>17.0</td>\n",
       "      <td>8</td>\n",
       "      <td>302.0</td>\n",
       "      <td>140</td>\n",
       "      <td>3449</td>\n",
       "      <td>10.5</td>\n",
       "      <td>70</td>\n",
       "      <td>1</td>\n",
       "      <td>ford torino</td>\n",
       "    </tr>\n",
       "  </tbody>\n",
       "</table>\n",
       "</div>"
      ],
      "text/plain": [
       "    mpg  cylinders  displacement horsepower  weight  acceleration  model year  \\\n",
       "0  18.0          8         307.0        130    3504          12.0          70   \n",
       "1  15.0          8         350.0        165    3693          11.5          70   \n",
       "2  18.0          8         318.0        150    3436          11.0          70   \n",
       "3  16.0          8         304.0        150    3433          12.0          70   \n",
       "4  17.0          8         302.0        140    3449          10.5          70   \n",
       "\n",
       "   origin                   car name  \n",
       "0       1  chevrolet chevelle malibu  \n",
       "1       1          buick skylark 320  \n",
       "2       1         plymouth satellite  \n",
       "3       1              amc rebel sst  \n",
       "4       1                ford torino  "
      ]
     },
     "execution_count": 214,
     "metadata": {},
     "output_type": "execute_result"
    }
   ],
   "source": [
    "df_auto.head()"
   ]
  },
  {
   "cell_type": "markdown",
   "id": "4295d042",
   "metadata": {},
   "source": [
    "# Remove the car name column"
   ]
  },
  {
   "cell_type": "code",
   "execution_count": 215,
   "id": "599f1109",
   "metadata": {},
   "outputs": [
    {
     "data": {
      "text/html": [
       "<div>\n",
       "<style scoped>\n",
       "    .dataframe tbody tr th:only-of-type {\n",
       "        vertical-align: middle;\n",
       "    }\n",
       "\n",
       "    .dataframe tbody tr th {\n",
       "        vertical-align: top;\n",
       "    }\n",
       "\n",
       "    .dataframe thead th {\n",
       "        text-align: right;\n",
       "    }\n",
       "</style>\n",
       "<table border=\"1\" class=\"dataframe\">\n",
       "  <thead>\n",
       "    <tr style=\"text-align: right;\">\n",
       "      <th></th>\n",
       "      <th>mpg</th>\n",
       "      <th>cylinders</th>\n",
       "      <th>displacement</th>\n",
       "      <th>horsepower</th>\n",
       "      <th>weight</th>\n",
       "      <th>acceleration</th>\n",
       "      <th>model year</th>\n",
       "      <th>origin</th>\n",
       "    </tr>\n",
       "  </thead>\n",
       "  <tbody>\n",
       "    <tr>\n",
       "      <th>0</th>\n",
       "      <td>18.0</td>\n",
       "      <td>8</td>\n",
       "      <td>307.0</td>\n",
       "      <td>130</td>\n",
       "      <td>3504</td>\n",
       "      <td>12.0</td>\n",
       "      <td>70</td>\n",
       "      <td>1</td>\n",
       "    </tr>\n",
       "    <tr>\n",
       "      <th>1</th>\n",
       "      <td>15.0</td>\n",
       "      <td>8</td>\n",
       "      <td>350.0</td>\n",
       "      <td>165</td>\n",
       "      <td>3693</td>\n",
       "      <td>11.5</td>\n",
       "      <td>70</td>\n",
       "      <td>1</td>\n",
       "    </tr>\n",
       "    <tr>\n",
       "      <th>2</th>\n",
       "      <td>18.0</td>\n",
       "      <td>8</td>\n",
       "      <td>318.0</td>\n",
       "      <td>150</td>\n",
       "      <td>3436</td>\n",
       "      <td>11.0</td>\n",
       "      <td>70</td>\n",
       "      <td>1</td>\n",
       "    </tr>\n",
       "    <tr>\n",
       "      <th>3</th>\n",
       "      <td>16.0</td>\n",
       "      <td>8</td>\n",
       "      <td>304.0</td>\n",
       "      <td>150</td>\n",
       "      <td>3433</td>\n",
       "      <td>12.0</td>\n",
       "      <td>70</td>\n",
       "      <td>1</td>\n",
       "    </tr>\n",
       "    <tr>\n",
       "      <th>4</th>\n",
       "      <td>17.0</td>\n",
       "      <td>8</td>\n",
       "      <td>302.0</td>\n",
       "      <td>140</td>\n",
       "      <td>3449</td>\n",
       "      <td>10.5</td>\n",
       "      <td>70</td>\n",
       "      <td>1</td>\n",
       "    </tr>\n",
       "    <tr>\n",
       "      <th>...</th>\n",
       "      <td>...</td>\n",
       "      <td>...</td>\n",
       "      <td>...</td>\n",
       "      <td>...</td>\n",
       "      <td>...</td>\n",
       "      <td>...</td>\n",
       "      <td>...</td>\n",
       "      <td>...</td>\n",
       "    </tr>\n",
       "    <tr>\n",
       "      <th>393</th>\n",
       "      <td>27.0</td>\n",
       "      <td>4</td>\n",
       "      <td>140.0</td>\n",
       "      <td>86</td>\n",
       "      <td>2790</td>\n",
       "      <td>15.6</td>\n",
       "      <td>82</td>\n",
       "      <td>1</td>\n",
       "    </tr>\n",
       "    <tr>\n",
       "      <th>394</th>\n",
       "      <td>44.0</td>\n",
       "      <td>4</td>\n",
       "      <td>97.0</td>\n",
       "      <td>52</td>\n",
       "      <td>2130</td>\n",
       "      <td>24.6</td>\n",
       "      <td>82</td>\n",
       "      <td>2</td>\n",
       "    </tr>\n",
       "    <tr>\n",
       "      <th>395</th>\n",
       "      <td>32.0</td>\n",
       "      <td>4</td>\n",
       "      <td>135.0</td>\n",
       "      <td>84</td>\n",
       "      <td>2295</td>\n",
       "      <td>11.6</td>\n",
       "      <td>82</td>\n",
       "      <td>1</td>\n",
       "    </tr>\n",
       "    <tr>\n",
       "      <th>396</th>\n",
       "      <td>28.0</td>\n",
       "      <td>4</td>\n",
       "      <td>120.0</td>\n",
       "      <td>79</td>\n",
       "      <td>2625</td>\n",
       "      <td>18.6</td>\n",
       "      <td>82</td>\n",
       "      <td>1</td>\n",
       "    </tr>\n",
       "    <tr>\n",
       "      <th>397</th>\n",
       "      <td>31.0</td>\n",
       "      <td>4</td>\n",
       "      <td>119.0</td>\n",
       "      <td>82</td>\n",
       "      <td>2720</td>\n",
       "      <td>19.4</td>\n",
       "      <td>82</td>\n",
       "      <td>1</td>\n",
       "    </tr>\n",
       "  </tbody>\n",
       "</table>\n",
       "<p>398 rows × 8 columns</p>\n",
       "</div>"
      ],
      "text/plain": [
       "      mpg  cylinders  displacement horsepower  weight  acceleration  \\\n",
       "0    18.0          8         307.0        130    3504          12.0   \n",
       "1    15.0          8         350.0        165    3693          11.5   \n",
       "2    18.0          8         318.0        150    3436          11.0   \n",
       "3    16.0          8         304.0        150    3433          12.0   \n",
       "4    17.0          8         302.0        140    3449          10.5   \n",
       "..    ...        ...           ...        ...     ...           ...   \n",
       "393  27.0          4         140.0         86    2790          15.6   \n",
       "394  44.0          4          97.0         52    2130          24.6   \n",
       "395  32.0          4         135.0         84    2295          11.6   \n",
       "396  28.0          4         120.0         79    2625          18.6   \n",
       "397  31.0          4         119.0         82    2720          19.4   \n",
       "\n",
       "     model year  origin  \n",
       "0            70       1  \n",
       "1            70       1  \n",
       "2            70       1  \n",
       "3            70       1  \n",
       "4            70       1  \n",
       "..          ...     ...  \n",
       "393          82       1  \n",
       "394          82       2  \n",
       "395          82       1  \n",
       "396          82       1  \n",
       "397          82       1  \n",
       "\n",
       "[398 rows x 8 columns]"
      ]
     },
     "execution_count": 215,
     "metadata": {},
     "output_type": "execute_result"
    }
   ],
   "source": [
    "df_auto.drop(\"car name\",axis=1)"
   ]
  },
  {
   "cell_type": "code",
   "execution_count": 216,
   "id": "e85d016c",
   "metadata": {},
   "outputs": [
    {
     "data": {
      "text/plain": [
       "mpg             float64\n",
       "cylinders         int64\n",
       "displacement    float64\n",
       "horsepower       object\n",
       "weight            int64\n",
       "acceleration    float64\n",
       "model year        int64\n",
       "origin            int64\n",
       "car name         object\n",
       "dtype: object"
      ]
     },
     "execution_count": 216,
     "metadata": {},
     "output_type": "execute_result"
    }
   ],
   "source": [
    "df_auto.dtypes"
   ]
  },
  {
   "cell_type": "code",
   "execution_count": 217,
   "id": "b80ab685",
   "metadata": {},
   "outputs": [
    {
     "data": {
      "text/plain": [
       "mpg                   25.0\n",
       "cylinders                4\n",
       "displacement          98.0\n",
       "horsepower               ?\n",
       "weight                2046\n",
       "acceleration          19.0\n",
       "model year              71\n",
       "origin                   1\n",
       "car name        ford pinto\n",
       "Name: 32, dtype: object"
      ]
     },
     "execution_count": 217,
     "metadata": {},
     "output_type": "execute_result"
    }
   ],
   "source": [
    "df_auto.iloc[32]"
   ]
  },
  {
   "cell_type": "markdown",
   "id": "a794d676",
   "metadata": {},
   "source": [
    "# The horsepower column values likely imported as a string data type. Figure out why and replace any strings with the column mean."
   ]
  },
  {
   "cell_type": "markdown",
   "id": "aebe4518",
   "metadata": {},
   "source": [
    "horsepower column was imported as string as this has '?' (question mark) along with numeric data"
   ]
  },
  {
   "cell_type": "code",
   "execution_count": 218,
   "id": "ca53b0bb",
   "metadata": {},
   "outputs": [],
   "source": [
    "df_auto['horsepower'] = df_auto['horsepower'].replace('?', \n",
    "    np.mean(pd.to_numeric(df_auto['horsepower'], errors='coerce')))"
   ]
  },
  {
   "cell_type": "code",
   "execution_count": 219,
   "id": "502be0e3",
   "metadata": {},
   "outputs": [
    {
     "data": {
      "text/html": [
       "<div>\n",
       "<style scoped>\n",
       "    .dataframe tbody tr th:only-of-type {\n",
       "        vertical-align: middle;\n",
       "    }\n",
       "\n",
       "    .dataframe tbody tr th {\n",
       "        vertical-align: top;\n",
       "    }\n",
       "\n",
       "    .dataframe thead th {\n",
       "        text-align: right;\n",
       "    }\n",
       "</style>\n",
       "<table border=\"1\" class=\"dataframe\">\n",
       "  <thead>\n",
       "    <tr style=\"text-align: right;\">\n",
       "      <th></th>\n",
       "      <th>mpg</th>\n",
       "      <th>cylinders</th>\n",
       "      <th>displacement</th>\n",
       "      <th>horsepower</th>\n",
       "      <th>weight</th>\n",
       "      <th>acceleration</th>\n",
       "      <th>model year</th>\n",
       "      <th>origin</th>\n",
       "      <th>car name</th>\n",
       "    </tr>\n",
       "  </thead>\n",
       "  <tbody>\n",
       "    <tr>\n",
       "      <th>0</th>\n",
       "      <td>18.0</td>\n",
       "      <td>8</td>\n",
       "      <td>307.0</td>\n",
       "      <td>130</td>\n",
       "      <td>3504</td>\n",
       "      <td>12.0</td>\n",
       "      <td>70</td>\n",
       "      <td>1</td>\n",
       "      <td>chevrolet chevelle malibu</td>\n",
       "    </tr>\n",
       "    <tr>\n",
       "      <th>1</th>\n",
       "      <td>15.0</td>\n",
       "      <td>8</td>\n",
       "      <td>350.0</td>\n",
       "      <td>165</td>\n",
       "      <td>3693</td>\n",
       "      <td>11.5</td>\n",
       "      <td>70</td>\n",
       "      <td>1</td>\n",
       "      <td>buick skylark 320</td>\n",
       "    </tr>\n",
       "    <tr>\n",
       "      <th>2</th>\n",
       "      <td>18.0</td>\n",
       "      <td>8</td>\n",
       "      <td>318.0</td>\n",
       "      <td>150</td>\n",
       "      <td>3436</td>\n",
       "      <td>11.0</td>\n",
       "      <td>70</td>\n",
       "      <td>1</td>\n",
       "      <td>plymouth satellite</td>\n",
       "    </tr>\n",
       "    <tr>\n",
       "      <th>3</th>\n",
       "      <td>16.0</td>\n",
       "      <td>8</td>\n",
       "      <td>304.0</td>\n",
       "      <td>150</td>\n",
       "      <td>3433</td>\n",
       "      <td>12.0</td>\n",
       "      <td>70</td>\n",
       "      <td>1</td>\n",
       "      <td>amc rebel sst</td>\n",
       "    </tr>\n",
       "    <tr>\n",
       "      <th>4</th>\n",
       "      <td>17.0</td>\n",
       "      <td>8</td>\n",
       "      <td>302.0</td>\n",
       "      <td>140</td>\n",
       "      <td>3449</td>\n",
       "      <td>10.5</td>\n",
       "      <td>70</td>\n",
       "      <td>1</td>\n",
       "      <td>ford torino</td>\n",
       "    </tr>\n",
       "  </tbody>\n",
       "</table>\n",
       "</div>"
      ],
      "text/plain": [
       "    mpg  cylinders  displacement horsepower  weight  acceleration  model year  \\\n",
       "0  18.0          8         307.0        130    3504          12.0          70   \n",
       "1  15.0          8         350.0        165    3693          11.5          70   \n",
       "2  18.0          8         318.0        150    3436          11.0          70   \n",
       "3  16.0          8         304.0        150    3433          12.0          70   \n",
       "4  17.0          8         302.0        140    3449          10.5          70   \n",
       "\n",
       "   origin                   car name  \n",
       "0       1  chevrolet chevelle malibu  \n",
       "1       1          buick skylark 320  \n",
       "2       1         plymouth satellite  \n",
       "3       1              amc rebel sst  \n",
       "4       1                ford torino  "
      ]
     },
     "execution_count": 219,
     "metadata": {},
     "output_type": "execute_result"
    }
   ],
   "source": [
    "df_auto.head()"
   ]
  },
  {
   "cell_type": "code",
   "execution_count": 220,
   "id": "f5004e8a",
   "metadata": {},
   "outputs": [
    {
     "data": {
      "text/plain": [
       "mpg                   25.0\n",
       "cylinders                4\n",
       "displacement          98.0\n",
       "horsepower      104.469388\n",
       "weight                2046\n",
       "acceleration          19.0\n",
       "model year              71\n",
       "origin                   1\n",
       "car name        ford pinto\n",
       "Name: 32, dtype: object"
      ]
     },
     "execution_count": 220,
     "metadata": {},
     "output_type": "execute_result"
    }
   ],
   "source": [
    "df_auto.iloc[32]"
   ]
  },
  {
   "cell_type": "markdown",
   "id": "8f2da232",
   "metadata": {},
   "source": [
    "# Create dummy variables for the origin column"
   ]
  },
  {
   "cell_type": "code",
   "execution_count": 221,
   "id": "af2e9ed9",
   "metadata": {},
   "outputs": [],
   "source": [
    "# Creating dummy variables:\n",
    "df_auto_dummy = pd.get_dummies(df_auto, columns=['origin'])"
   ]
  },
  {
   "cell_type": "code",
   "execution_count": 222,
   "id": "f0d1c2f6",
   "metadata": {},
   "outputs": [
    {
     "data": {
      "text/html": [
       "<div>\n",
       "<style scoped>\n",
       "    .dataframe tbody tr th:only-of-type {\n",
       "        vertical-align: middle;\n",
       "    }\n",
       "\n",
       "    .dataframe tbody tr th {\n",
       "        vertical-align: top;\n",
       "    }\n",
       "\n",
       "    .dataframe thead th {\n",
       "        text-align: right;\n",
       "    }\n",
       "</style>\n",
       "<table border=\"1\" class=\"dataframe\">\n",
       "  <thead>\n",
       "    <tr style=\"text-align: right;\">\n",
       "      <th></th>\n",
       "      <th>mpg</th>\n",
       "      <th>cylinders</th>\n",
       "      <th>displacement</th>\n",
       "      <th>horsepower</th>\n",
       "      <th>weight</th>\n",
       "      <th>acceleration</th>\n",
       "      <th>model year</th>\n",
       "      <th>car name</th>\n",
       "      <th>origin_1</th>\n",
       "      <th>origin_2</th>\n",
       "      <th>origin_3</th>\n",
       "    </tr>\n",
       "  </thead>\n",
       "  <tbody>\n",
       "    <tr>\n",
       "      <th>0</th>\n",
       "      <td>18.0</td>\n",
       "      <td>8</td>\n",
       "      <td>307.0</td>\n",
       "      <td>130</td>\n",
       "      <td>3504</td>\n",
       "      <td>12.0</td>\n",
       "      <td>70</td>\n",
       "      <td>chevrolet chevelle malibu</td>\n",
       "      <td>1</td>\n",
       "      <td>0</td>\n",
       "      <td>0</td>\n",
       "    </tr>\n",
       "    <tr>\n",
       "      <th>1</th>\n",
       "      <td>15.0</td>\n",
       "      <td>8</td>\n",
       "      <td>350.0</td>\n",
       "      <td>165</td>\n",
       "      <td>3693</td>\n",
       "      <td>11.5</td>\n",
       "      <td>70</td>\n",
       "      <td>buick skylark 320</td>\n",
       "      <td>1</td>\n",
       "      <td>0</td>\n",
       "      <td>0</td>\n",
       "    </tr>\n",
       "    <tr>\n",
       "      <th>2</th>\n",
       "      <td>18.0</td>\n",
       "      <td>8</td>\n",
       "      <td>318.0</td>\n",
       "      <td>150</td>\n",
       "      <td>3436</td>\n",
       "      <td>11.0</td>\n",
       "      <td>70</td>\n",
       "      <td>plymouth satellite</td>\n",
       "      <td>1</td>\n",
       "      <td>0</td>\n",
       "      <td>0</td>\n",
       "    </tr>\n",
       "    <tr>\n",
       "      <th>3</th>\n",
       "      <td>16.0</td>\n",
       "      <td>8</td>\n",
       "      <td>304.0</td>\n",
       "      <td>150</td>\n",
       "      <td>3433</td>\n",
       "      <td>12.0</td>\n",
       "      <td>70</td>\n",
       "      <td>amc rebel sst</td>\n",
       "      <td>1</td>\n",
       "      <td>0</td>\n",
       "      <td>0</td>\n",
       "    </tr>\n",
       "    <tr>\n",
       "      <th>4</th>\n",
       "      <td>17.0</td>\n",
       "      <td>8</td>\n",
       "      <td>302.0</td>\n",
       "      <td>140</td>\n",
       "      <td>3449</td>\n",
       "      <td>10.5</td>\n",
       "      <td>70</td>\n",
       "      <td>ford torino</td>\n",
       "      <td>1</td>\n",
       "      <td>0</td>\n",
       "      <td>0</td>\n",
       "    </tr>\n",
       "  </tbody>\n",
       "</table>\n",
       "</div>"
      ],
      "text/plain": [
       "    mpg  cylinders  displacement horsepower  weight  acceleration  model year  \\\n",
       "0  18.0          8         307.0        130    3504          12.0          70   \n",
       "1  15.0          8         350.0        165    3693          11.5          70   \n",
       "2  18.0          8         318.0        150    3436          11.0          70   \n",
       "3  16.0          8         304.0        150    3433          12.0          70   \n",
       "4  17.0          8         302.0        140    3449          10.5          70   \n",
       "\n",
       "                    car name  origin_1  origin_2  origin_3  \n",
       "0  chevrolet chevelle malibu         1         0         0  \n",
       "1          buick skylark 320         1         0         0  \n",
       "2         plymouth satellite         1         0         0  \n",
       "3              amc rebel sst         1         0         0  \n",
       "4                ford torino         1         0         0  "
      ]
     },
     "execution_count": 222,
     "metadata": {},
     "output_type": "execute_result"
    }
   ],
   "source": [
    "df_auto_dummy.head()"
   ]
  },
  {
   "cell_type": "markdown",
   "id": "469d7676",
   "metadata": {},
   "source": [
    "# Create a correlation coefficient matrix and/or visualization. Are there features highly correlated with mpg?"
   ]
  },
  {
   "cell_type": "code",
   "execution_count": 223,
   "id": "719f24c8",
   "metadata": {},
   "outputs": [
    {
     "name": "stdout",
     "output_type": "stream",
     "text": [
      "                   mpg  cylinders  displacement    weight  acceleration  \\\n",
      "mpg           1.000000  -0.775396     -0.804203 -0.831741      0.420289   \n",
      "cylinders    -0.775396   1.000000      0.950721  0.896017     -0.505419   \n",
      "displacement -0.804203   0.950721      1.000000  0.932824     -0.543684   \n",
      "weight       -0.831741   0.896017      0.932824  1.000000     -0.417457   \n",
      "acceleration  0.420289  -0.505419     -0.543684 -0.417457      1.000000   \n",
      "model year    0.579267  -0.348746     -0.370164 -0.306564      0.288137   \n",
      "origin        0.563450  -0.562543     -0.609409 -0.581024      0.205873   \n",
      "\n",
      "              model year    origin  \n",
      "mpg             0.579267  0.563450  \n",
      "cylinders      -0.348746 -0.562543  \n",
      "displacement   -0.370164 -0.609409  \n",
      "weight         -0.306564 -0.581024  \n",
      "acceleration    0.288137  0.205873  \n",
      "model year      1.000000  0.180662  \n",
      "origin          0.180662  1.000000  \n"
     ]
    }
   ],
   "source": [
    "corrMatrix = df_auto.corr()\n",
    "print (corrMatrix)"
   ]
  },
  {
   "cell_type": "code",
   "execution_count": 224,
   "id": "d5c202dd",
   "metadata": {},
   "outputs": [
    {
     "data": {
      "image/png": "[encoded data removed]",
      "text/plain": [
       "<Figure size 432x288 with 2 Axes>"
      ]
     },
     "metadata": {
      "needs_background": "light"
     },
     "output_type": "display_data"
    }
   ],
   "source": [
    "sn.heatmap(corrMatrix, annot=True)\n",
    "plt.show()"
   ]
  },
  {
   "cell_type": "markdown",
   "id": "4b56fe4a",
   "metadata": {},
   "source": [
    "# Plot mpg versus weight. Analyze this graph and explain how it relates to the corresponding correlation coefficient."
   ]
  },
  {
   "cell_type": "code",
   "execution_count": 225,
   "id": "ac36ac76",
   "metadata": {},
   "outputs": [
    {
     "data": {
      "image/png": "[encoded data removed]",
      "text/plain": [
       "<Figure size 1080x576 with 1 Axes>"
      ]
     },
     "metadata": {
      "needs_background": "light"
     },
     "output_type": "display_data"
    }
   ],
   "source": [
    "plt.figure(figsize=(15,8))\n",
    "plt.bar(df_auto['mpg'],df_auto['weight'])\n",
    "plt.title(\"Bar chart for mpg versus weight\",fontsize=20)\n",
    "plt.ylabel(\"weight\",fontsize=15)\n",
    "plt.xlabel(\"mpg\",fontsize=15)\n",
    "plt.xticks(fontsize=15)\n",
    "plt.yticks(fontsize=15)\n",
    "plt.show()"
   ]
  },
  {
   "cell_type": "markdown",
   "id": "727ce534",
   "metadata": {},
   "source": [
    "As per the observation on the graph, it can be seen that as the mpg (mileage) increases weight decreases or to explain it better as weight increases mpg (mileage) decreases"
   ]
  },
  {
   "cell_type": "markdown",
   "id": "e4d8f570",
   "metadata": {},
   "source": [
    "# Randomly split the data into 80% training data and 20% test data, where your target is mpg."
   ]
  },
  {
   "cell_type": "code",
   "execution_count": 226,
   "id": "5f6baf88",
   "metadata": {},
   "outputs": [
    {
     "name": "stdout",
     "output_type": "stream",
     "text": [
      "training data size: 318\n",
      "testing data size: 80\n",
      "full dataset size: 398\n",
      "target dataset size: 398\n"
     ]
    }
   ],
   "source": [
    "#splitting\n",
    "\n",
    "training_data = df_auto.sample(frac=0.8, random_state=25)\n",
    "testing_data = df_auto.drop(training_data.index)\n",
    "\n",
    "target_data= df_auto['mpg'].values.reshape(-1, 1)\n",
    "\n",
    "print(f\"training data size: {training_data.shape[0]}\")\n",
    "print(f\"testing data size: {testing_data.shape[0]}\")\n",
    "print(f\"full dataset size: {df_auto.shape[0]}\")\n",
    "print(f\"target dataset size: {target_data.shape[0]}\")\n"
   ]
  },
  {
   "cell_type": "code",
   "execution_count": 227,
   "id": "22e0de07",
   "metadata": {},
   "outputs": [
    {
     "data": {
      "text/plain": [
       "array([[18. ],\n",
       "       [15. ],\n",
       "       [18. ],\n",
       "       [16. ],\n",
       "       [17. ],\n",
       "       [15. ],\n",
       "       [14. ],\n",
       "       [14. ],\n",
       "       [14. ],\n",
       "       [15. ],\n",
       "       [15. ],\n",
       "       [14. ],\n",
       "       [15. ],\n",
       "       [14. ],\n",
       "       [24. ],\n",
       "       [22. ],\n",
       "       [18. ],\n",
       "       [21. ],\n",
       "       [27. ],\n",
       "       [26. ],\n",
       "       [25. ],\n",
       "       [24. ],\n",
       "       [25. ],\n",
       "       [26. ],\n",
       "       [21. ],\n",
       "       [10. ],\n",
       "       [10. ],\n",
       "       [11. ],\n",
       "       [ 9. ],\n",
       "       [27. ],\n",
       "       [28. ],\n",
       "       [25. ],\n",
       "       [25. ],\n",
       "       [19. ],\n",
       "       [16. ],\n",
       "       [17. ],\n",
       "       [19. ],\n",
       "       [18. ],\n",
       "       [14. ],\n",
       "       [14. ],\n",
       "       [14. ],\n",
       "       [14. ],\n",
       "       [12. ],\n",
       "       [13. ],\n",
       "       [13. ],\n",
       "       [18. ],\n",
       "       [22. ],\n",
       "       [19. ],\n",
       "       [18. ],\n",
       "       [23. ],\n",
       "       [28. ],\n",
       "       [30. ],\n",
       "       [30. ],\n",
       "       [31. ],\n",
       "       [35. ],\n",
       "       [27. ],\n",
       "       [26. ],\n",
       "       [24. ],\n",
       "       [25. ],\n",
       "       [23. ],\n",
       "       [20. ],\n",
       "       [21. ],\n",
       "       [13. ],\n",
       "       [14. ],\n",
       "       [15. ],\n",
       "       [14. ],\n",
       "       [17. ],\n",
       "       [11. ],\n",
       "       [13. ],\n",
       "       [12. ],\n",
       "       [13. ],\n",
       "       [19. ],\n",
       "       [15. ],\n",
       "       [13. ],\n",
       "       [13. ],\n",
       "       [14. ],\n",
       "       [18. ],\n",
       "       [22. ],\n",
       "       [21. ],\n",
       "       [26. ],\n",
       "       [22. ],\n",
       "       [28. ],\n",
       "       [23. ],\n",
       "       [28. ],\n",
       "       [27. ],\n",
       "       [13. ],\n",
       "       [14. ],\n",
       "       [13. ],\n",
       "       [14. ],\n",
       "       [15. ],\n",
       "       [12. ],\n",
       "       [13. ],\n",
       "       [13. ],\n",
       "       [14. ],\n",
       "       [13. ],\n",
       "       [12. ],\n",
       "       [13. ],\n",
       "       [18. ],\n",
       "       [16. ],\n",
       "       [18. ],\n",
       "       [18. ],\n",
       "       [23. ],\n",
       "       [26. ],\n",
       "       [11. ],\n",
       "       [12. ],\n",
       "       [13. ],\n",
       "       [12. ],\n",
       "       [18. ],\n",
       "       [20. ],\n",
       "       [21. ],\n",
       "       [22. ],\n",
       "       [18. ],\n",
       "       [19. ],\n",
       "       [21. ],\n",
       "       [26. ],\n",
       "       [15. ],\n",
       "       [16. ],\n",
       "       [29. ],\n",
       "       [24. ],\n",
       "       [20. ],\n",
       "       [19. ],\n",
       "       [15. ],\n",
       "       [24. ],\n",
       "       [20. ],\n",
       "       [11. ],\n",
       "       [20. ],\n",
       "       [21. ],\n",
       "       [19. ],\n",
       "       [15. ],\n",
       "       [31. ],\n",
       "       [26. ],\n",
       "       [32. ],\n",
       "       [25. ],\n",
       "       [16. ],\n",
       "       [16. ],\n",
       "       [18. ],\n",
       "       [16. ],\n",
       "       [13. ],\n",
       "       [14. ],\n",
       "       [14. ],\n",
       "       [14. ],\n",
       "       [29. ],\n",
       "       [26. ],\n",
       "       [26. ],\n",
       "       [31. ],\n",
       "       [32. ],\n",
       "       [28. ],\n",
       "       [24. ],\n",
       "       [26. ],\n",
       "       [24. ],\n",
       "       [26. ],\n",
       "       [31. ],\n",
       "       [19. ],\n",
       "       [18. ],\n",
       "       [15. ],\n",
       "       [15. ],\n",
       "       [16. ],\n",
       "       [15. ],\n",
       "       [16. ],\n",
       "       [14. ],\n",
       "       [17. ],\n",
       "       [16. ],\n",
       "       [15. ],\n",
       "       [18. ],\n",
       "       [21. ],\n",
       "       [20. ],\n",
       "       [13. ],\n",
       "       [29. ],\n",
       "       [23. ],\n",
       "       [20. ],\n",
       "       [23. ],\n",
       "       [24. ],\n",
       "       [25. ],\n",
       "       [24. ],\n",
       "       [18. ],\n",
       "       [29. ],\n",
       "       [19. ],\n",
       "       [23. ],\n",
       "       [23. ],\n",
       "       [22. ],\n",
       "       [25. ],\n",
       "       [33. ],\n",
       "       [28. ],\n",
       "       [25. ],\n",
       "       [25. ],\n",
       "       [26. ],\n",
       "       [27. ],\n",
       "       [17.5],\n",
       "       [16. ],\n",
       "       [15.5],\n",
       "       [14.5],\n",
       "       [22. ],\n",
       "       [22. ],\n",
       "       [24. ],\n",
       "       [22.5],\n",
       "       [29. ],\n",
       "       [24.5],\n",
       "       [29. ],\n",
       "       [33. ],\n",
       "       [20. ],\n",
       "       [18. ],\n",
       "       [18.5],\n",
       "       [17.5],\n",
       "       [29.5],\n",
       "       [32. ],\n",
       "       [28. ],\n",
       "       [26.5],\n",
       "       [20. ],\n",
       "       [13. ],\n",
       "       [19. ],\n",
       "       [19. ],\n",
       "       [16.5],\n",
       "       [16.5],\n",
       "       [13. ],\n",
       "       [13. ],\n",
       "       [13. ],\n",
       "       [31.5],\n",
       "       [30. ],\n",
       "       [36. ],\n",
       "       [25.5],\n",
       "       [33.5],\n",
       "       [17.5],\n",
       "       [17. ],\n",
       "       [15.5],\n",
       "       [15. ],\n",
       "       [17.5],\n",
       "       [20.5],\n",
       "       [19. ],\n",
       "       [18.5],\n",
       "       [16. ],\n",
       "       [15.5],\n",
       "       [15.5],\n",
       "       [16. ],\n",
       "       [29. ],\n",
       "       [24.5],\n",
       "       [26. ],\n",
       "       [25.5],\n",
       "       [30.5],\n",
       "       [33.5],\n",
       "       [30. ],\n",
       "       [30.5],\n",
       "       [22. ],\n",
       "       [21.5],\n",
       "       [21.5],\n",
       "       [43.1],\n",
       "       [36.1],\n",
       "       [32.8],\n",
       "       [39.4],\n",
       "       [36.1],\n",
       "       [19.9],\n",
       "       [19.4],\n",
       "       [20.2],\n",
       "       [19.2],\n",
       "       [20.5],\n",
       "       [20.2],\n",
       "       [25.1],\n",
       "       [20.5],\n",
       "       [19.4],\n",
       "       [20.6],\n",
       "       [20.8],\n",
       "       [18.6],\n",
       "       [18.1],\n",
       "       [19.2],\n",
       "       [17.7],\n",
       "       [18.1],\n",
       "       [17.5],\n",
       "       [30. ],\n",
       "       [27.5],\n",
       "       [27.2],\n",
       "       [30.9],\n",
       "       [21.1],\n",
       "       [23.2],\n",
       "       [23.8],\n",
       "       [23.9],\n",
       "       [20.3],\n",
       "       [17. ],\n",
       "       [21.6],\n",
       "       [16.2],\n",
       "       [31.5],\n",
       "       [29.5],\n",
       "       [21.5],\n",
       "       [19.8],\n",
       "       [22.3],\n",
       "       [20.2],\n",
       "       [20.6],\n",
       "       [17. ],\n",
       "       [17.6],\n",
       "       [16.5],\n",
       "       [18.2],\n",
       "       [16.9],\n",
       "       [15.5],\n",
       "       [19.2],\n",
       "       [18.5],\n",
       "       [31.9],\n",
       "       [34.1],\n",
       "       [35.7],\n",
       "       [27.4],\n",
       "       [25.4],\n",
       "       [23. ],\n",
       "       [27.2],\n",
       "       [23.9],\n",
       "       [34.2],\n",
       "       [34.5],\n",
       "       [31.8],\n",
       "       [37.3],\n",
       "       [28.4],\n",
       "       [28.8],\n",
       "       [26.8],\n",
       "       [33.5],\n",
       "       [41.5],\n",
       "       [38.1],\n",
       "       [32.1],\n",
       "       [37.2],\n",
       "       [28. ],\n",
       "       [26.4],\n",
       "       [24.3],\n",
       "       [19.1],\n",
       "       [34.3],\n",
       "       [29.8],\n",
       "       [31.3],\n",
       "       [37. ],\n",
       "       [32.2],\n",
       "       [46.6],\n",
       "       [27.9],\n",
       "       [40.8],\n",
       "       [44.3],\n",
       "       [43.4],\n",
       "       [36.4],\n",
       "       [30. ],\n",
       "       [44.6],\n",
       "       [40.9],\n",
       "       [33.8],\n",
       "       [29.8],\n",
       "       [32.7],\n",
       "       [23.7],\n",
       "       [35. ],\n",
       "       [23.6],\n",
       "       [32.4],\n",
       "       [27.2],\n",
       "       [26.6],\n",
       "       [25.8],\n",
       "       [23.5],\n",
       "       [30. ],\n",
       "       [39.1],\n",
       "       [39. ],\n",
       "       [35.1],\n",
       "       [32.3],\n",
       "       [37. ],\n",
       "       [37.7],\n",
       "       [34.1],\n",
       "       [34.7],\n",
       "       [34.4],\n",
       "       [29.9],\n",
       "       [33. ],\n",
       "       [34.5],\n",
       "       [33.7],\n",
       "       [32.4],\n",
       "       [32.9],\n",
       "       [31.6],\n",
       "       [28.1],\n",
       "       [30.7],\n",
       "       [25.4],\n",
       "       [24.2],\n",
       "       [22.4],\n",
       "       [26.6],\n",
       "       [20.2],\n",
       "       [17.6],\n",
       "       [28. ],\n",
       "       [27. ],\n",
       "       [34. ],\n",
       "       [31. ],\n",
       "       [29. ],\n",
       "       [27. ],\n",
       "       [24. ],\n",
       "       [23. ],\n",
       "       [36. ],\n",
       "       [37. ],\n",
       "       [31. ],\n",
       "       [38. ],\n",
       "       [36. ],\n",
       "       [36. ],\n",
       "       [36. ],\n",
       "       [34. ],\n",
       "       [38. ],\n",
       "       [32. ],\n",
       "       [38. ],\n",
       "       [25. ],\n",
       "       [38. ],\n",
       "       [26. ],\n",
       "       [22. ],\n",
       "       [32. ],\n",
       "       [36. ],\n",
       "       [27. ],\n",
       "       [27. ],\n",
       "       [44. ],\n",
       "       [32. ],\n",
       "       [28. ],\n",
       "       [31. ]])"
      ]
     },
     "execution_count": 227,
     "metadata": {},
     "output_type": "execute_result"
    }
   ],
   "source": [
    "target_data"
   ]
  },
  {
   "cell_type": "code",
   "execution_count": 163,
   "id": "734d732e",
   "metadata": {},
   "outputs": [
    {
     "data": {
      "text/html": [
       "<div>\n",
       "<style scoped>\n",
       "    .dataframe tbody tr th:only-of-type {\n",
       "        vertical-align: middle;\n",
       "    }\n",
       "\n",
       "    .dataframe tbody tr th {\n",
       "        vertical-align: top;\n",
       "    }\n",
       "\n",
       "    .dataframe thead th {\n",
       "        text-align: right;\n",
       "    }\n",
       "</style>\n",
       "<table border=\"1\" class=\"dataframe\">\n",
       "  <thead>\n",
       "    <tr style=\"text-align: right;\">\n",
       "      <th></th>\n",
       "      <th>mpg</th>\n",
       "      <th>cylinders</th>\n",
       "      <th>displacement</th>\n",
       "      <th>horsepower</th>\n",
       "      <th>weight</th>\n",
       "      <th>acceleration</th>\n",
       "      <th>model year</th>\n",
       "      <th>origin</th>\n",
       "      <th>car name</th>\n",
       "    </tr>\n",
       "  </thead>\n",
       "  <tbody>\n",
       "    <tr>\n",
       "      <th>121</th>\n",
       "      <td>15.0</td>\n",
       "      <td>8</td>\n",
       "      <td>318.0</td>\n",
       "      <td>150</td>\n",
       "      <td>3399</td>\n",
       "      <td>11.0</td>\n",
       "      <td>73</td>\n",
       "      <td>1</td>\n",
       "      <td>dodge dart custom</td>\n",
       "    </tr>\n",
       "    <tr>\n",
       "      <th>162</th>\n",
       "      <td>15.0</td>\n",
       "      <td>6</td>\n",
       "      <td>258.0</td>\n",
       "      <td>110</td>\n",
       "      <td>3730</td>\n",
       "      <td>19.0</td>\n",
       "      <td>75</td>\n",
       "      <td>1</td>\n",
       "      <td>amc matador</td>\n",
       "    </tr>\n",
       "    <tr>\n",
       "      <th>326</th>\n",
       "      <td>43.4</td>\n",
       "      <td>4</td>\n",
       "      <td>90.0</td>\n",
       "      <td>48</td>\n",
       "      <td>2335</td>\n",
       "      <td>23.7</td>\n",
       "      <td>80</td>\n",
       "      <td>2</td>\n",
       "      <td>vw dasher (diesel)</td>\n",
       "    </tr>\n",
       "    <tr>\n",
       "      <th>200</th>\n",
       "      <td>18.0</td>\n",
       "      <td>6</td>\n",
       "      <td>250.0</td>\n",
       "      <td>78</td>\n",
       "      <td>3574</td>\n",
       "      <td>21.0</td>\n",
       "      <td>76</td>\n",
       "      <td>1</td>\n",
       "      <td>ford granada ghia</td>\n",
       "    </tr>\n",
       "    <tr>\n",
       "      <th>263</th>\n",
       "      <td>17.7</td>\n",
       "      <td>6</td>\n",
       "      <td>231.0</td>\n",
       "      <td>165</td>\n",
       "      <td>3445</td>\n",
       "      <td>13.4</td>\n",
       "      <td>78</td>\n",
       "      <td>1</td>\n",
       "      <td>buick regal sport coupe (turbo)</td>\n",
       "    </tr>\n",
       "    <tr>\n",
       "      <th>...</th>\n",
       "      <td>...</td>\n",
       "      <td>...</td>\n",
       "      <td>...</td>\n",
       "      <td>...</td>\n",
       "      <td>...</td>\n",
       "      <td>...</td>\n",
       "      <td>...</td>\n",
       "      <td>...</td>\n",
       "      <td>...</td>\n",
       "    </tr>\n",
       "    <tr>\n",
       "      <th>5</th>\n",
       "      <td>15.0</td>\n",
       "      <td>8</td>\n",
       "      <td>429.0</td>\n",
       "      <td>198</td>\n",
       "      <td>4341</td>\n",
       "      <td>10.0</td>\n",
       "      <td>70</td>\n",
       "      <td>1</td>\n",
       "      <td>ford galaxie 500</td>\n",
       "    </tr>\n",
       "    <tr>\n",
       "      <th>368</th>\n",
       "      <td>27.0</td>\n",
       "      <td>4</td>\n",
       "      <td>112.0</td>\n",
       "      <td>88</td>\n",
       "      <td>2640</td>\n",
       "      <td>18.6</td>\n",
       "      <td>82</td>\n",
       "      <td>1</td>\n",
       "      <td>chevrolet cavalier wagon</td>\n",
       "    </tr>\n",
       "    <tr>\n",
       "      <th>79</th>\n",
       "      <td>26.0</td>\n",
       "      <td>4</td>\n",
       "      <td>96.0</td>\n",
       "      <td>69</td>\n",
       "      <td>2189</td>\n",
       "      <td>18.0</td>\n",
       "      <td>72</td>\n",
       "      <td>2</td>\n",
       "      <td>renault 12 (sw)</td>\n",
       "    </tr>\n",
       "    <tr>\n",
       "      <th>187</th>\n",
       "      <td>17.5</td>\n",
       "      <td>8</td>\n",
       "      <td>305.0</td>\n",
       "      <td>140</td>\n",
       "      <td>4215</td>\n",
       "      <td>13.0</td>\n",
       "      <td>76</td>\n",
       "      <td>1</td>\n",
       "      <td>chevrolet chevelle malibu classic</td>\n",
       "    </tr>\n",
       "    <tr>\n",
       "      <th>265</th>\n",
       "      <td>17.5</td>\n",
       "      <td>8</td>\n",
       "      <td>318.0</td>\n",
       "      <td>140</td>\n",
       "      <td>4080</td>\n",
       "      <td>13.7</td>\n",
       "      <td>78</td>\n",
       "      <td>1</td>\n",
       "      <td>dodge magnum xe</td>\n",
       "    </tr>\n",
       "  </tbody>\n",
       "</table>\n",
       "<p>318 rows × 9 columns</p>\n",
       "</div>"
      ],
      "text/plain": [
       "      mpg  cylinders  displacement horsepower  weight  acceleration  \\\n",
       "121  15.0          8         318.0        150    3399          11.0   \n",
       "162  15.0          6         258.0        110    3730          19.0   \n",
       "326  43.4          4          90.0         48    2335          23.7   \n",
       "200  18.0          6         250.0         78    3574          21.0   \n",
       "263  17.7          6         231.0        165    3445          13.4   \n",
       "..    ...        ...           ...        ...     ...           ...   \n",
       "5    15.0          8         429.0        198    4341          10.0   \n",
       "368  27.0          4         112.0         88    2640          18.6   \n",
       "79   26.0          4          96.0         69    2189          18.0   \n",
       "187  17.5          8         305.0        140    4215          13.0   \n",
       "265  17.5          8         318.0        140    4080          13.7   \n",
       "\n",
       "     model year  origin                           car name  \n",
       "121          73       1                  dodge dart custom  \n",
       "162          75       1                        amc matador  \n",
       "326          80       2                 vw dasher (diesel)  \n",
       "200          76       1                  ford granada ghia  \n",
       "263          78       1    buick regal sport coupe (turbo)  \n",
       "..          ...     ...                                ...  \n",
       "5            70       1                   ford galaxie 500  \n",
       "368          82       1           chevrolet cavalier wagon  \n",
       "79           72       2                    renault 12 (sw)  \n",
       "187          76       1  chevrolet chevelle malibu classic  \n",
       "265          78       1                    dodge magnum xe  \n",
       "\n",
       "[318 rows x 9 columns]"
      ]
     },
     "execution_count": 163,
     "metadata": {},
     "output_type": "execute_result"
    }
   ],
   "source": [
    "training_data"
   ]
  },
  {
   "cell_type": "code",
   "execution_count": 228,
   "id": "68c6450b",
   "metadata": {},
   "outputs": [],
   "source": [
    "x = df_auto[['cylinders','displacement','horsepower','weight','acceleration','model year','origin']]\n",
    "y = df_auto[['mpg']]"
   ]
  },
  {
   "cell_type": "code",
   "execution_count": 229,
   "id": "97433b62",
   "metadata": {},
   "outputs": [],
   "source": [
    "x_train, x_test, y_train, y_test = train_test_split(x, y, test_size = 0.2)"
   ]
  },
  {
   "cell_type": "code",
   "execution_count": 230,
   "id": "7a64de82",
   "metadata": {},
   "outputs": [
    {
     "name": "stdout",
     "output_type": "stream",
     "text": [
      "x train data size: 318\n",
      "y train data size: 318\n",
      "x test data size: 80\n",
      "y test data size: 80\n",
      "full dataset size: 398\n"
     ]
    }
   ],
   "source": [
    "print(f\"x train data size: {x_train.shape[0]}\")\n",
    "print(f\"y train data size: {y_train.shape[0]}\")\n",
    "print(f\"x test data size: {x_test.shape[0]}\")\n",
    "print(f\"y test data size: {x_test.shape[0]}\")\n",
    "print(f\"full dataset size: {df_auto.shape[0]}\")"
   ]
  },
  {
   "cell_type": "markdown",
   "id": "ea9f0b6c",
   "metadata": {},
   "source": [
    "# Train an ordinary linear regression on the training data."
   ]
  },
  {
   "cell_type": "code",
   "execution_count": 231,
   "id": "4eb578ba",
   "metadata": {},
   "outputs": [],
   "source": [
    "#Load required libraries\n",
    "from sklearn.linear_model import LinearRegression\n",
    "from sklearn.model_selection import train_test_split"
   ]
  },
  {
   "cell_type": "code",
   "execution_count": 232,
   "id": "79cec7e8",
   "metadata": {},
   "outputs": [],
   "source": [
    "#Create linear regression\n",
    "regression = LinearRegression()"
   ]
  },
  {
   "cell_type": "code",
   "execution_count": 233,
   "id": "3582dbeb",
   "metadata": {},
   "outputs": [],
   "source": [
    "x = df_auto[['cylinders','displacement','horsepower','weight','acceleration','model year','origin']]\n",
    "y = df_auto[['mpg']]"
   ]
  },
  {
   "cell_type": "code",
   "execution_count": 234,
   "id": "1c7eaee0",
   "metadata": {},
   "outputs": [],
   "source": [
    "x_train, x_test, y_train, y_test = train_test_split(x, y, test_size = 0.2)"
   ]
  },
  {
   "cell_type": "code",
   "execution_count": 235,
   "id": "f40bfb18",
   "metadata": {},
   "outputs": [],
   "source": [
    "model = LinearRegression()"
   ]
  },
  {
   "cell_type": "code",
   "execution_count": 236,
   "id": "9e89895d",
   "metadata": {},
   "outputs": [
    {
     "data": {
      "text/plain": [
       "LinearRegression()"
      ]
     },
     "execution_count": 236,
     "metadata": {},
     "output_type": "execute_result"
    }
   ],
   "source": [
    "model.fit(x_train, y_train)"
   ]
  },
  {
   "cell_type": "code",
   "execution_count": 237,
   "id": "e9da1d3d",
   "metadata": {},
   "outputs": [
    {
     "name": "stdout",
     "output_type": "stream",
     "text": [
      "[[-0.21563427  0.01620297 -0.008814   -0.00671417  0.19109072  0.75690361\n",
      "   1.55344588]]\n"
     ]
    }
   ],
   "source": [
    "print(model.coef_)"
   ]
  },
  {
   "cell_type": "code",
   "execution_count": 238,
   "id": "996a1812",
   "metadata": {},
   "outputs": [],
   "source": [
    "predictions = model.predict(x_test)"
   ]
  },
  {
   "cell_type": "code",
   "execution_count": 239,
   "id": "bcd6ba45",
   "metadata": {},
   "outputs": [
    {
     "name": "stdout",
     "output_type": "stream",
     "text": [
      "[[26.16111114]\n",
      " [18.93645843]\n",
      " [26.11977667]\n",
      " [28.09039509]\n",
      " [20.18885512]\n",
      " [19.79556539]\n",
      " [14.89899331]\n",
      " [18.85173056]\n",
      " [19.42621699]\n",
      " [28.19073451]\n",
      " [29.34609905]\n",
      " [13.217204  ]\n",
      " [27.93751634]\n",
      " [27.27315184]\n",
      " [23.88907009]\n",
      " [25.82749477]\n",
      " [30.94884631]\n",
      " [10.07870897]\n",
      " [30.39994265]\n",
      " [16.61575278]\n",
      " [21.80456895]\n",
      " [28.84656194]\n",
      " [30.62682178]\n",
      " [24.59006748]\n",
      " [11.65444574]\n",
      " [30.51898941]\n",
      " [30.06976602]\n",
      " [21.02189405]\n",
      " [20.69645614]\n",
      " [21.62644588]\n",
      " [11.19423034]\n",
      " [13.79416058]\n",
      " [ 8.60090964]\n",
      " [21.6832399 ]\n",
      " [22.33015679]\n",
      " [29.41475986]\n",
      " [21.98713578]\n",
      " [11.7984458 ]\n",
      " [ 9.80213939]\n",
      " [31.273752  ]\n",
      " [16.66580942]\n",
      " [ 5.6532207 ]\n",
      " [24.03367281]\n",
      " [28.76416279]\n",
      " [15.59274248]\n",
      " [10.01715435]\n",
      " [20.80765382]\n",
      " [20.12495153]\n",
      " [15.51249091]\n",
      " [22.53099654]\n",
      " [28.24114649]\n",
      " [35.91829529]\n",
      " [20.53148258]\n",
      " [28.68553656]\n",
      " [27.78868972]\n",
      " [23.79621401]\n",
      " [11.68804932]\n",
      " [14.87099385]\n",
      " [30.13931414]\n",
      " [23.77132376]\n",
      " [16.94509476]\n",
      " [26.31918053]\n",
      " [27.93155593]\n",
      " [33.4567387 ]\n",
      " [23.35972193]\n",
      " [23.73192989]\n",
      " [22.74742948]\n",
      " [24.53534194]\n",
      " [22.76381673]\n",
      " [23.86726744]\n",
      " [35.98435818]\n",
      " [33.86753309]\n",
      " [31.97018902]\n",
      " [29.26258897]\n",
      " [32.23047521]\n",
      " [25.41094792]\n",
      " [35.07562158]\n",
      " [36.68556566]\n",
      " [35.7216959 ]\n",
      " [17.8987945 ]]\n"
     ]
    }
   ],
   "source": [
    "print(predictions)"
   ]
  },
  {
   "cell_type": "code",
   "execution_count": 240,
   "id": "d12a3cac",
   "metadata": {},
   "outputs": [
    {
     "data": {
      "text/plain": [
       "<matplotlib.collections.PathCollection at 0x7faad1fdddf0>"
      ]
     },
     "execution_count": 240,
     "metadata": {},
     "output_type": "execute_result"
    },
    {
     "data": {
      "image/png": "[encoded data removed]",
      "text/plain": [
       "<Figure size 432x288 with 1 Axes>"
      ]
     },
     "metadata": {
      "needs_background": "light"
     },
     "output_type": "display_data"
    }
   ],
   "source": [
    "plt.scatter(y_test, predictions)"
   ]
  },
  {
   "cell_type": "markdown",
   "id": "5411c94c",
   "metadata": {},
   "source": [
    "# Calculate R2, RMSE, and MAE on both the training and test sets and interpret your results."
   ]
  },
  {
   "cell_type": "code",
   "execution_count": 241,
   "id": "60cc304c",
   "metadata": {},
   "outputs": [],
   "source": [
    "from sklearn import metrics"
   ]
  },
  {
   "cell_type": "code",
   "execution_count": 242,
   "id": "c7e479d7",
   "metadata": {},
   "outputs": [
    {
     "data": {
      "text/plain": [
       "0.8471496484696086"
      ]
     },
     "execution_count": 242,
     "metadata": {},
     "output_type": "execute_result"
    }
   ],
   "source": [
    "#R2\n",
    "metrics.r2_score(y_test, predictions)"
   ]
  },
  {
   "cell_type": "code",
   "execution_count": 243,
   "id": "4edc8c25",
   "metadata": {},
   "outputs": [
    {
     "data": {
      "text/plain": [
       "2.982159059803844"
      ]
     },
     "execution_count": 243,
     "metadata": {},
     "output_type": "execute_result"
    }
   ],
   "source": [
    "#RMSE\n",
    "np.sqrt(metrics.mean_squared_error(y_test, predictions))"
   ]
  },
  {
   "cell_type": "code",
   "execution_count": 244,
   "id": "703448d6",
   "metadata": {},
   "outputs": [
    {
     "data": {
      "text/plain": [
       "2.331915282874207"
      ]
     },
     "execution_count": 244,
     "metadata": {},
     "output_type": "execute_result"
    }
   ],
   "source": [
    "#MAE\n",
    "metrics.mean_absolute_error(y_test, predictions)"
   ]
  },
  {
   "cell_type": "markdown",
   "id": "228e1c79",
   "metadata": {},
   "source": [
    "# Pick another regression model and repeat the previous two steps. Note: Do NOT choose logistic regression as it is more like a classification model."
   ]
  },
  {
   "cell_type": "code",
   "execution_count": 245,
   "id": "812777a0",
   "metadata": {},
   "outputs": [],
   "source": [
    "from sklearn.linear_model import Lasso"
   ]
  },
  {
   "cell_type": "code",
   "execution_count": 247,
   "id": "00bb16c5",
   "metadata": {},
   "outputs": [],
   "source": [
    "# Creating Lasso Regression model\n",
    "\n",
    "lassoReg = Lasso(alpha=0.3)\n",
    "\n",
    "lassoReg.fit(x_train,y_train)\n",
    "\n",
    "pred = lassoReg.predict(x_test)"
   ]
  },
  {
   "cell_type": "code",
   "execution_count": 248,
   "id": "34eb8d53",
   "metadata": {},
   "outputs": [
    {
     "name": "stdout",
     "output_type": "stream",
     "text": [
      "[26.77386546 18.45082782 26.34735711 28.59783146 20.77947411 20.07269354\n",
      " 15.09158063 18.89967623 19.04860811 27.65157268 30.37563435 13.00292394\n",
      " 28.3938131  27.56757815 24.49977313 25.88887156 31.28756018  9.37652288\n",
      " 29.60916375 16.72329129 21.99657917 29.74648987 31.74270588 25.55904117\n",
      " 11.54154696 31.05628575 29.49705228 20.97728715 19.81128081 21.92859668\n",
      " 10.66198396 13.8608116   7.94242009 21.78991022 21.89266472 29.81075353\n",
      " 22.52690434 11.34875876  9.15875368 30.12832555 16.71472954  5.3878333\n",
      " 24.90430791 29.18564761 16.10233937  9.92254154 21.41178041 20.87167731\n",
      " 15.13621977 22.03730179 28.77709625 35.12775488 20.7125213  29.93182962\n",
      " 28.82533672 23.90018539 11.95014565 14.6952563  30.9991676  25.10165428\n",
      " 16.73699702 25.69218251 29.06125028 32.72527126 23.57526578 24.10675422\n",
      " 23.72940231 24.95384475 22.71923568 22.68137037 34.90767639 32.83714005\n",
      " 32.36907224 30.17040665 31.45077752 25.80007002 34.28618106 35.8735753\n",
      " 34.59171547 17.69663132]\n"
     ]
    }
   ],
   "source": [
    "print(pred)"
   ]
  },
  {
   "cell_type": "code",
   "execution_count": 249,
   "id": "101ac081",
   "metadata": {},
   "outputs": [
    {
     "data": {
      "text/plain": [
       "<matplotlib.collections.PathCollection at 0x7faab1970880>"
      ]
     },
     "execution_count": 249,
     "metadata": {},
     "output_type": "execute_result"
    },
    {
     "data": {
      "image/png": "[encoded data removed]",
      "text/plain": [
       "<Figure size 432x288 with 1 Axes>"
      ]
     },
     "metadata": {
      "needs_background": "light"
     },
     "output_type": "display_data"
    }
   ],
   "source": [
    "plt.scatter(y_test, predictions)"
   ]
  },
  {
   "cell_type": "code",
   "execution_count": 250,
   "id": "dc745ebb",
   "metadata": {},
   "outputs": [],
   "source": [
    "from sklearn import metrics"
   ]
  },
  {
   "cell_type": "code",
   "execution_count": 251,
   "id": "9fd4b9e6",
   "metadata": {},
   "outputs": [
    {
     "data": {
      "text/plain": [
       "0.8471496484696086"
      ]
     },
     "execution_count": 251,
     "metadata": {},
     "output_type": "execute_result"
    }
   ],
   "source": [
    "#R2\n",
    "metrics.r2_score(y_test, predictions)"
   ]
  },
  {
   "cell_type": "code",
   "execution_count": 252,
   "id": "c7dc4d34",
   "metadata": {},
   "outputs": [
    {
     "data": {
      "text/plain": [
       "2.982159059803844"
      ]
     },
     "execution_count": 252,
     "metadata": {},
     "output_type": "execute_result"
    }
   ],
   "source": [
    "#RMSE\n",
    "np.sqrt(metrics.mean_squared_error(y_test, predictions))"
   ]
  },
  {
   "cell_type": "code",
   "execution_count": 253,
   "id": "df45b99b",
   "metadata": {},
   "outputs": [
    {
     "data": {
      "text/plain": [
       "2.331915282874207"
      ]
     },
     "execution_count": 253,
     "metadata": {},
     "output_type": "execute_result"
    }
   ],
   "source": [
    "#MAE\n",
    "metrics.mean_absolute_error(y_test, predictions)"
   ]
  },
  {
   "cell_type": "code",
   "execution_count": 254,
   "id": "39dbef3f",
   "metadata": {},
   "outputs": [
    {
     "data": {
      "text/plain": [
       "0.8511937229333254"
      ]
     },
     "execution_count": 254,
     "metadata": {},
     "output_type": "execute_result"
    }
   ],
   "source": [
    "lassoReg.score(x_test,y_test)"
   ]
  }
 ],
 "metadata": {
  "kernelspec": {
   "display_name": "Python 3 (ipykernel)",
   "language": "python",
   "name": "python3"
  },
  "language_info": {
   "codemirror_mode": {
    "name": "ipython",
    "version": 3
   },
   "file_extension": ".py",
   "mimetype": "text/x-python",
   "name": "python",
   "nbconvert_exporter": "python",
   "pygments_lexer": "ipython3",
   "version": "3.9.12"
  }
 },
 "nbformat": 4,
 "nbformat_minor": 5
}
