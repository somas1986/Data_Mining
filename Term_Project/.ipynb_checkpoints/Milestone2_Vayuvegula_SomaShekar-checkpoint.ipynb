{
 "cells": [
  {
   "cell_type": "code",
   "execution_count": 354,
   "id": "e8a9c85a",
   "metadata": {},
   "outputs": [],
   "source": [
    "#Import libraries\n",
    "import pandas as pd\n",
    "import numpy as np\n",
    "import matplotlib.pyplot as plt"
   ]
  },
  {
   "cell_type": "code",
   "execution_count": 355,
   "id": "1d8dc752",
   "metadata": {},
   "outputs": [],
   "source": [
    "#Read CSV file\n",
    "df_brain= pd.read_csv(\"brain_stroke.csv\")"
   ]
  },
  {
   "cell_type": "code",
   "execution_count": 356,
   "id": "075f7dc6",
   "metadata": {},
   "outputs": [
    {
     "data": {
      "text/html": [
       "<div>\n",
       "<style scoped>\n",
       "    .dataframe tbody tr th:only-of-type {\n",
       "        vertical-align: middle;\n",
       "    }\n",
       "\n",
       "    .dataframe tbody tr th {\n",
       "        vertical-align: top;\n",
       "    }\n",
       "\n",
       "    .dataframe thead th {\n",
       "        text-align: right;\n",
       "    }\n",
       "</style>\n",
       "<table border=\"1\" class=\"dataframe\">\n",
       "  <thead>\n",
       "    <tr style=\"text-align: right;\">\n",
       "      <th></th>\n",
       "      <th>id</th>\n",
       "      <th>gender</th>\n",
       "      <th>age</th>\n",
       "      <th>hypertension</th>\n",
       "      <th>heart_disease</th>\n",
       "      <th>ever_married</th>\n",
       "      <th>work_type</th>\n",
       "      <th>Residence_type</th>\n",
       "      <th>avg_glucose_level</th>\n",
       "      <th>bmi</th>\n",
       "      <th>smoking_status</th>\n",
       "      <th>stroke</th>\n",
       "    </tr>\n",
       "  </thead>\n",
       "  <tbody>\n",
       "    <tr>\n",
       "      <th>0</th>\n",
       "      <td>9046</td>\n",
       "      <td>Male</td>\n",
       "      <td>67.0</td>\n",
       "      <td>0</td>\n",
       "      <td>1</td>\n",
       "      <td>Yes</td>\n",
       "      <td>Private</td>\n",
       "      <td>Urban</td>\n",
       "      <td>228.69</td>\n",
       "      <td>36.6</td>\n",
       "      <td>formerly smoked</td>\n",
       "      <td>1</td>\n",
       "    </tr>\n",
       "    <tr>\n",
       "      <th>1</th>\n",
       "      <td>51676</td>\n",
       "      <td>Female</td>\n",
       "      <td>61.0</td>\n",
       "      <td>0</td>\n",
       "      <td>0</td>\n",
       "      <td>Yes</td>\n",
       "      <td>Self-employed</td>\n",
       "      <td>Rural</td>\n",
       "      <td>202.21</td>\n",
       "      <td>NaN</td>\n",
       "      <td>never smoked</td>\n",
       "      <td>1</td>\n",
       "    </tr>\n",
       "    <tr>\n",
       "      <th>2</th>\n",
       "      <td>31112</td>\n",
       "      <td>Male</td>\n",
       "      <td>80.0</td>\n",
       "      <td>0</td>\n",
       "      <td>1</td>\n",
       "      <td>Yes</td>\n",
       "      <td>Private</td>\n",
       "      <td>Rural</td>\n",
       "      <td>105.92</td>\n",
       "      <td>32.5</td>\n",
       "      <td>never smoked</td>\n",
       "      <td>1</td>\n",
       "    </tr>\n",
       "    <tr>\n",
       "      <th>3</th>\n",
       "      <td>60182</td>\n",
       "      <td>Female</td>\n",
       "      <td>49.0</td>\n",
       "      <td>0</td>\n",
       "      <td>0</td>\n",
       "      <td>Yes</td>\n",
       "      <td>Private</td>\n",
       "      <td>Urban</td>\n",
       "      <td>171.23</td>\n",
       "      <td>34.4</td>\n",
       "      <td>smokes</td>\n",
       "      <td>1</td>\n",
       "    </tr>\n",
       "    <tr>\n",
       "      <th>4</th>\n",
       "      <td>1665</td>\n",
       "      <td>Female</td>\n",
       "      <td>79.0</td>\n",
       "      <td>1</td>\n",
       "      <td>0</td>\n",
       "      <td>Yes</td>\n",
       "      <td>Self-employed</td>\n",
       "      <td>Rural</td>\n",
       "      <td>174.12</td>\n",
       "      <td>24.0</td>\n",
       "      <td>never smoked</td>\n",
       "      <td>1</td>\n",
       "    </tr>\n",
       "  </tbody>\n",
       "</table>\n",
       "</div>"
      ],
      "text/plain": [
       "      id  gender   age  hypertension  heart_disease ever_married  \\\n",
       "0   9046    Male  67.0             0              1          Yes   \n",
       "1  51676  Female  61.0             0              0          Yes   \n",
       "2  31112    Male  80.0             0              1          Yes   \n",
       "3  60182  Female  49.0             0              0          Yes   \n",
       "4   1665  Female  79.0             1              0          Yes   \n",
       "\n",
       "       work_type Residence_type  avg_glucose_level   bmi   smoking_status  \\\n",
       "0        Private          Urban             228.69  36.6  formerly smoked   \n",
       "1  Self-employed          Rural             202.21   NaN     never smoked   \n",
       "2        Private          Rural             105.92  32.5     never smoked   \n",
       "3        Private          Urban             171.23  34.4           smokes   \n",
       "4  Self-employed          Rural             174.12  24.0     never smoked   \n",
       "\n",
       "   stroke  \n",
       "0       1  \n",
       "1       1  \n",
       "2       1  \n",
       "3       1  \n",
       "4       1  "
      ]
     },
     "execution_count": 356,
     "metadata": {},
     "output_type": "execute_result"
    }
   ],
   "source": [
    "df_brain.head()"
   ]
  },
  {
   "cell_type": "code",
   "execution_count": 357,
   "id": "72915988",
   "metadata": {},
   "outputs": [
    {
     "data": {
      "text/plain": [
       "array(['Male', 'Female', 'Other'], dtype=object)"
      ]
     },
     "execution_count": 357,
     "metadata": {},
     "output_type": "execute_result"
    }
   ],
   "source": [
    "df_brain['gender'].unique()"
   ]
  },
  {
   "cell_type": "code",
   "execution_count": 358,
   "id": "d40855e7",
   "metadata": {},
   "outputs": [
    {
     "data": {
      "text/plain": [
       "array([0, 1])"
      ]
     },
     "execution_count": 358,
     "metadata": {},
     "output_type": "execute_result"
    }
   ],
   "source": [
    "df_brain['hypertension'].unique()"
   ]
  },
  {
   "cell_type": "code",
   "execution_count": 359,
   "id": "acf7ce3b",
   "metadata": {},
   "outputs": [
    {
     "data": {
      "text/plain": [
       "array([1, 0])"
      ]
     },
     "execution_count": 359,
     "metadata": {},
     "output_type": "execute_result"
    }
   ],
   "source": [
    "df_brain['heart_disease'].unique()"
   ]
  },
  {
   "cell_type": "code",
   "execution_count": 360,
   "id": "e2c612d9",
   "metadata": {},
   "outputs": [
    {
     "data": {
      "text/plain": [
       "array(['Yes', 'No'], dtype=object)"
      ]
     },
     "execution_count": 360,
     "metadata": {},
     "output_type": "execute_result"
    }
   ],
   "source": [
    "df_brain['ever_married'].unique()"
   ]
  },
  {
   "cell_type": "code",
   "execution_count": 361,
   "id": "fe965516",
   "metadata": {},
   "outputs": [
    {
     "data": {
      "text/plain": [
       "array(['Private', 'Self-employed', 'Govt_job', 'children', 'Never_worked'],\n",
       "      dtype=object)"
      ]
     },
     "execution_count": 361,
     "metadata": {},
     "output_type": "execute_result"
    }
   ],
   "source": [
    "df_brain['work_type'].unique()"
   ]
  },
  {
   "cell_type": "code",
   "execution_count": 362,
   "id": "1287a174",
   "metadata": {},
   "outputs": [
    {
     "data": {
      "text/plain": [
       "array([1, 0])"
      ]
     },
     "execution_count": 362,
     "metadata": {},
     "output_type": "execute_result"
    }
   ],
   "source": [
    "df_brain['stroke'].unique()"
   ]
  },
  {
   "cell_type": "markdown",
   "id": "1d524dd1",
   "metadata": {},
   "source": [
    "# Data Transformation"
   ]
  },
  {
   "cell_type": "markdown",
   "id": "7e290a2d",
   "metadata": {},
   "source": [
    "# 1. Dropping Columns/Features"
   ]
  },
  {
   "cell_type": "markdown",
   "id": "7da740d8",
   "metadata": {},
   "source": [
    "Dropping column Id as this a unique number given to each record (can be patient id or random generated number or serial number). It has no significance in decision making."
   ]
  },
  {
   "cell_type": "code",
   "execution_count": 363,
   "id": "c9938eff",
   "metadata": {},
   "outputs": [],
   "source": [
    "df_brain = df_brain.drop('id',axis=1)"
   ]
  },
  {
   "cell_type": "markdown",
   "id": "a2d49e70",
   "metadata": {},
   "source": [
    "# 2. Replacing values in a cloumn"
   ]
  },
  {
   "cell_type": "markdown",
   "id": "fcdbfa25",
   "metadata": {},
   "source": [
    "Changing work type 'Children' as 'Student' as Children is not work type and Changing formatting for other work types.\n",
    "Changing binary values to string values of Yes and No instead of 1 and 0 respectively for  hypertension and heart_disease."
   ]
  },
  {
   "cell_type": "code",
   "execution_count": 364,
   "id": "85d6c59e",
   "metadata": {},
   "outputs": [],
   "source": [
    "df_brain['work_type'] = df_brain['work_type'].replace(['children'], 'Student')\n",
    "df_brain['work_type'] = df_brain['work_type'].replace(['Self-employed'], 'Self Employed')\n",
    "df_brain['work_type'] = df_brain['work_type'].replace(['Govt_job'], 'Government')"
   ]
  },
  {
   "cell_type": "code",
   "execution_count": 365,
   "id": "a3862036",
   "metadata": {},
   "outputs": [
    {
     "data": {
      "text/plain": [
       "array(['Private', 'Self Employed', 'Government', 'Student',\n",
       "       'Never_worked'], dtype=object)"
      ]
     },
     "execution_count": 365,
     "metadata": {},
     "output_type": "execute_result"
    }
   ],
   "source": [
    "df_brain['work_type'].unique()"
   ]
  },
  {
   "cell_type": "code",
   "execution_count": 366,
   "id": "147a8536",
   "metadata": {},
   "outputs": [],
   "source": [
    "df_brain['hypertension'] = df_brain['hypertension'].replace([1], 'Yes')\n",
    "df_brain['hypertension'] = df_brain['hypertension'].replace([0], 'No')\n",
    "\n",
    "df_brain['heart_disease'] = df_brain['heart_disease'].replace([1], 'Yes')\n",
    "df_brain['heart_disease'] = df_brain['heart_disease'].replace([0], 'No')\n",
    "\n",
    "\n",
    "df_brain['stroke'] = df_brain['heart_disease'].replace([1], 'Yes')\n",
    "df_brain['stroke'] = df_brain['heart_disease'].replace([0], 'No')"
   ]
  },
  {
   "cell_type": "code",
   "execution_count": 367,
   "id": "abf6f6ad",
   "metadata": {},
   "outputs": [
    {
     "data": {
      "text/plain": [
       "array(['No', 'Yes'], dtype=object)"
      ]
     },
     "execution_count": 367,
     "metadata": {},
     "output_type": "execute_result"
    }
   ],
   "source": [
    "df_brain['hypertension'].unique()"
   ]
  },
  {
   "cell_type": "code",
   "execution_count": 368,
   "id": "abbffb01",
   "metadata": {},
   "outputs": [
    {
     "data": {
      "text/plain": [
       "array(['Yes', 'No'], dtype=object)"
      ]
     },
     "execution_count": 368,
     "metadata": {},
     "output_type": "execute_result"
    }
   ],
   "source": [
    "df_brain['heart_disease'].unique()"
   ]
  },
  {
   "cell_type": "code",
   "execution_count": 369,
   "id": "bf9514a6",
   "metadata": {},
   "outputs": [
    {
     "data": {
      "text/plain": [
       "array(['Yes', 'No'], dtype=object)"
      ]
     },
     "execution_count": 369,
     "metadata": {},
     "output_type": "execute_result"
    }
   ],
   "source": [
    "df_brain['stroke'].unique()"
   ]
  },
  {
   "cell_type": "code",
   "execution_count": 370,
   "id": "029ba7f5",
   "metadata": {},
   "outputs": [
    {
     "data": {
      "text/plain": [
       "array(['formerly smoked', 'never smoked', 'smokes', 'Unknown'],\n",
       "      dtype=object)"
      ]
     },
     "execution_count": 370,
     "metadata": {},
     "output_type": "execute_result"
    }
   ],
   "source": [
    "df_brain['smoking_status'].unique()"
   ]
  },
  {
   "cell_type": "markdown",
   "id": "f9e9187a",
   "metadata": {},
   "source": [
    "# 3. Renaming Column Name"
   ]
  },
  {
   "cell_type": "markdown",
   "id": "2cc20806",
   "metadata": {},
   "source": [
    "Changing column name stroke to brain_stroke as this is more meaningful"
   ]
  },
  {
   "cell_type": "code",
   "execution_count": 371,
   "id": "3a64ac4d",
   "metadata": {},
   "outputs": [],
   "source": [
    "df_brain = df_brain.rename(columns={'stroke': 'brain_stroke'})"
   ]
  },
  {
   "cell_type": "code",
   "execution_count": 372,
   "id": "dd603451",
   "metadata": {},
   "outputs": [
    {
     "data": {
      "text/html": [
       "<div>\n",
       "<style scoped>\n",
       "    .dataframe tbody tr th:only-of-type {\n",
       "        vertical-align: middle;\n",
       "    }\n",
       "\n",
       "    .dataframe tbody tr th {\n",
       "        vertical-align: top;\n",
       "    }\n",
       "\n",
       "    .dataframe thead th {\n",
       "        text-align: right;\n",
       "    }\n",
       "</style>\n",
       "<table border=\"1\" class=\"dataframe\">\n",
       "  <thead>\n",
       "    <tr style=\"text-align: right;\">\n",
       "      <th></th>\n",
       "      <th>gender</th>\n",
       "      <th>age</th>\n",
       "      <th>hypertension</th>\n",
       "      <th>heart_disease</th>\n",
       "      <th>ever_married</th>\n",
       "      <th>work_type</th>\n",
       "      <th>Residence_type</th>\n",
       "      <th>avg_glucose_level</th>\n",
       "      <th>bmi</th>\n",
       "      <th>smoking_status</th>\n",
       "      <th>brain_stroke</th>\n",
       "    </tr>\n",
       "  </thead>\n",
       "  <tbody>\n",
       "    <tr>\n",
       "      <th>0</th>\n",
       "      <td>Male</td>\n",
       "      <td>67.0</td>\n",
       "      <td>No</td>\n",
       "      <td>Yes</td>\n",
       "      <td>Yes</td>\n",
       "      <td>Private</td>\n",
       "      <td>Urban</td>\n",
       "      <td>228.69</td>\n",
       "      <td>36.6</td>\n",
       "      <td>formerly smoked</td>\n",
       "      <td>Yes</td>\n",
       "    </tr>\n",
       "    <tr>\n",
       "      <th>1</th>\n",
       "      <td>Female</td>\n",
       "      <td>61.0</td>\n",
       "      <td>No</td>\n",
       "      <td>No</td>\n",
       "      <td>Yes</td>\n",
       "      <td>Self Employed</td>\n",
       "      <td>Rural</td>\n",
       "      <td>202.21</td>\n",
       "      <td>NaN</td>\n",
       "      <td>never smoked</td>\n",
       "      <td>No</td>\n",
       "    </tr>\n",
       "    <tr>\n",
       "      <th>2</th>\n",
       "      <td>Male</td>\n",
       "      <td>80.0</td>\n",
       "      <td>No</td>\n",
       "      <td>Yes</td>\n",
       "      <td>Yes</td>\n",
       "      <td>Private</td>\n",
       "      <td>Rural</td>\n",
       "      <td>105.92</td>\n",
       "      <td>32.5</td>\n",
       "      <td>never smoked</td>\n",
       "      <td>Yes</td>\n",
       "    </tr>\n",
       "    <tr>\n",
       "      <th>3</th>\n",
       "      <td>Female</td>\n",
       "      <td>49.0</td>\n",
       "      <td>No</td>\n",
       "      <td>No</td>\n",
       "      <td>Yes</td>\n",
       "      <td>Private</td>\n",
       "      <td>Urban</td>\n",
       "      <td>171.23</td>\n",
       "      <td>34.4</td>\n",
       "      <td>smokes</td>\n",
       "      <td>No</td>\n",
       "    </tr>\n",
       "    <tr>\n",
       "      <th>4</th>\n",
       "      <td>Female</td>\n",
       "      <td>79.0</td>\n",
       "      <td>Yes</td>\n",
       "      <td>No</td>\n",
       "      <td>Yes</td>\n",
       "      <td>Self Employed</td>\n",
       "      <td>Rural</td>\n",
       "      <td>174.12</td>\n",
       "      <td>24.0</td>\n",
       "      <td>never smoked</td>\n",
       "      <td>No</td>\n",
       "    </tr>\n",
       "  </tbody>\n",
       "</table>\n",
       "</div>"
      ],
      "text/plain": [
       "   gender   age hypertension heart_disease ever_married      work_type  \\\n",
       "0    Male  67.0           No           Yes          Yes        Private   \n",
       "1  Female  61.0           No            No          Yes  Self Employed   \n",
       "2    Male  80.0           No           Yes          Yes        Private   \n",
       "3  Female  49.0           No            No          Yes        Private   \n",
       "4  Female  79.0          Yes            No          Yes  Self Employed   \n",
       "\n",
       "  Residence_type  avg_glucose_level   bmi   smoking_status brain_stroke  \n",
       "0          Urban             228.69  36.6  formerly smoked          Yes  \n",
       "1          Rural             202.21   NaN     never smoked           No  \n",
       "2          Rural             105.92  32.5     never smoked          Yes  \n",
       "3          Urban             171.23  34.4           smokes           No  \n",
       "4          Rural             174.12  24.0     never smoked           No  "
      ]
     },
     "execution_count": 372,
     "metadata": {},
     "output_type": "execute_result"
    }
   ],
   "source": [
    "df_brain.head()"
   ]
  },
  {
   "cell_type": "code",
   "execution_count": 373,
   "id": "474b2911",
   "metadata": {},
   "outputs": [
    {
     "data": {
      "text/plain": [
       "gender                object\n",
       "age                  float64\n",
       "hypertension          object\n",
       "heart_disease         object\n",
       "ever_married          object\n",
       "work_type             object\n",
       "Residence_type        object\n",
       "avg_glucose_level    float64\n",
       "bmi                  float64\n",
       "smoking_status        object\n",
       "brain_stroke          object\n",
       "dtype: object"
      ]
     },
     "execution_count": 373,
     "metadata": {},
     "output_type": "execute_result"
    }
   ],
   "source": [
    "df_brain.dtypes"
   ]
  },
  {
   "cell_type": "markdown",
   "id": "6a2e9c98",
   "metadata": {},
   "source": [
    "# 4. Transform features"
   ]
  },
  {
   "cell_type": "markdown",
   "id": "e1d864a6",
   "metadata": {},
   "source": [
    "As per BMI chart on National Heart, Lung, and Blood Institute website (https://www.nhlbi.nih.gov/health/educational/lose_wt/BMI/bmi_tbl2.htm), the maximum BMI is 54. So, any value above 54 is unrelaistic. So, replace values over 54 with 54 considering the person is obese."
   ]
  },
  {
   "cell_type": "code",
   "execution_count": 374,
   "id": "9eac9eb6",
   "metadata": {},
   "outputs": [
    {
     "data": {
      "text/plain": [
       "97.6"
      ]
     },
     "execution_count": 374,
     "metadata": {},
     "output_type": "execute_result"
    }
   ],
   "source": [
    "np.max(df_brain['bmi'])"
   ]
  },
  {
   "cell_type": "code",
   "execution_count": 375,
   "id": "7d5c2ae6",
   "metadata": {},
   "outputs": [
    {
     "name": "stderr",
     "output_type": "stream",
     "text": [
      "/var/folders/p0/pjkt4x3j3x3fcxxknylhjcq00000gn/T/ipykernel_60652/3231221694.py:2: SettingWithCopyWarning: \n",
      "A value is trying to be set on a copy of a slice from a DataFrame\n",
      "\n",
      "See the caveats in the documentation: https://pandas.pydata.org/pandas-docs/stable/user_guide/indexing.html#returning-a-view-versus-a-copy\n",
      "  df_brain['bmi'][df_brain['bmi']>max_bmi] = max_bmi\n"
     ]
    }
   ],
   "source": [
    "max_bmi = 54.0\n",
    "df_brain['bmi'][df_brain['bmi']>max_bmi] = max_bmi"
   ]
  },
  {
   "cell_type": "code",
   "execution_count": 376,
   "id": "958f4bdf",
   "metadata": {},
   "outputs": [
    {
     "data": {
      "text/plain": [
       "54.0"
      ]
     },
     "execution_count": 376,
     "metadata": {},
     "output_type": "execute_result"
    }
   ],
   "source": [
    "np.max(df_brain['bmi'])"
   ]
  },
  {
   "cell_type": "markdown",
   "id": "db45bb6a",
   "metadata": {},
   "source": [
    "# 5. Engineer new useful features."
   ]
  },
  {
   "cell_type": "markdown",
   "id": "dd2fb877",
   "metadata": {},
   "source": [
    "Adding new column stage_of_life based on the age as we can decide which age group has an impact"
   ]
  },
  {
   "cell_type": "code",
   "execution_count": 377,
   "id": "d327293b",
   "metadata": {},
   "outputs": [],
   "source": [
    "df_brain['stage_of_life'] = np.where(df_brain.age <= 2, 'Infant', \n",
    "                                 np.where(df_brain.age < 5, 'Toddler', \n",
    "                                 np.where(df_brain.age < 13, 'Child',\n",
    "                                 np.where(df_brain.age < 20, 'Teen',\n",
    "                                 np.where(df_brain.age < 40, 'Adult',\n",
    "                                 np.where(df_brain.age < 60, 'Middle Age Adult ','Senior Adult'))))))"
   ]
  },
  {
   "cell_type": "code",
   "execution_count": 378,
   "id": "478b1a1f",
   "metadata": {},
   "outputs": [
    {
     "data": {
      "text/html": [
       "<div>\n",
       "<style scoped>\n",
       "    .dataframe tbody tr th:only-of-type {\n",
       "        vertical-align: middle;\n",
       "    }\n",
       "\n",
       "    .dataframe tbody tr th {\n",
       "        vertical-align: top;\n",
       "    }\n",
       "\n",
       "    .dataframe thead th {\n",
       "        text-align: right;\n",
       "    }\n",
       "</style>\n",
       "<table border=\"1\" class=\"dataframe\">\n",
       "  <thead>\n",
       "    <tr style=\"text-align: right;\">\n",
       "      <th></th>\n",
       "      <th>gender</th>\n",
       "      <th>age</th>\n",
       "      <th>hypertension</th>\n",
       "      <th>heart_disease</th>\n",
       "      <th>ever_married</th>\n",
       "      <th>work_type</th>\n",
       "      <th>Residence_type</th>\n",
       "      <th>avg_glucose_level</th>\n",
       "      <th>bmi</th>\n",
       "      <th>smoking_status</th>\n",
       "      <th>brain_stroke</th>\n",
       "      <th>stage_of_life</th>\n",
       "    </tr>\n",
       "  </thead>\n",
       "  <tbody>\n",
       "    <tr>\n",
       "      <th>0</th>\n",
       "      <td>Male</td>\n",
       "      <td>67.0</td>\n",
       "      <td>No</td>\n",
       "      <td>Yes</td>\n",
       "      <td>Yes</td>\n",
       "      <td>Private</td>\n",
       "      <td>Urban</td>\n",
       "      <td>228.69</td>\n",
       "      <td>36.6</td>\n",
       "      <td>formerly smoked</td>\n",
       "      <td>Yes</td>\n",
       "      <td>Senior Adult</td>\n",
       "    </tr>\n",
       "    <tr>\n",
       "      <th>1</th>\n",
       "      <td>Female</td>\n",
       "      <td>61.0</td>\n",
       "      <td>No</td>\n",
       "      <td>No</td>\n",
       "      <td>Yes</td>\n",
       "      <td>Self Employed</td>\n",
       "      <td>Rural</td>\n",
       "      <td>202.21</td>\n",
       "      <td>NaN</td>\n",
       "      <td>never smoked</td>\n",
       "      <td>No</td>\n",
       "      <td>Senior Adult</td>\n",
       "    </tr>\n",
       "    <tr>\n",
       "      <th>2</th>\n",
       "      <td>Male</td>\n",
       "      <td>80.0</td>\n",
       "      <td>No</td>\n",
       "      <td>Yes</td>\n",
       "      <td>Yes</td>\n",
       "      <td>Private</td>\n",
       "      <td>Rural</td>\n",
       "      <td>105.92</td>\n",
       "      <td>32.5</td>\n",
       "      <td>never smoked</td>\n",
       "      <td>Yes</td>\n",
       "      <td>Senior Adult</td>\n",
       "    </tr>\n",
       "    <tr>\n",
       "      <th>3</th>\n",
       "      <td>Female</td>\n",
       "      <td>49.0</td>\n",
       "      <td>No</td>\n",
       "      <td>No</td>\n",
       "      <td>Yes</td>\n",
       "      <td>Private</td>\n",
       "      <td>Urban</td>\n",
       "      <td>171.23</td>\n",
       "      <td>34.4</td>\n",
       "      <td>smokes</td>\n",
       "      <td>No</td>\n",
       "      <td>Middle Age Adult</td>\n",
       "    </tr>\n",
       "    <tr>\n",
       "      <th>4</th>\n",
       "      <td>Female</td>\n",
       "      <td>79.0</td>\n",
       "      <td>Yes</td>\n",
       "      <td>No</td>\n",
       "      <td>Yes</td>\n",
       "      <td>Self Employed</td>\n",
       "      <td>Rural</td>\n",
       "      <td>174.12</td>\n",
       "      <td>24.0</td>\n",
       "      <td>never smoked</td>\n",
       "      <td>No</td>\n",
       "      <td>Senior Adult</td>\n",
       "    </tr>\n",
       "    <tr>\n",
       "      <th>5</th>\n",
       "      <td>Male</td>\n",
       "      <td>81.0</td>\n",
       "      <td>No</td>\n",
       "      <td>No</td>\n",
       "      <td>Yes</td>\n",
       "      <td>Private</td>\n",
       "      <td>Urban</td>\n",
       "      <td>186.21</td>\n",
       "      <td>29.0</td>\n",
       "      <td>formerly smoked</td>\n",
       "      <td>No</td>\n",
       "      <td>Senior Adult</td>\n",
       "    </tr>\n",
       "    <tr>\n",
       "      <th>6</th>\n",
       "      <td>Male</td>\n",
       "      <td>74.0</td>\n",
       "      <td>Yes</td>\n",
       "      <td>Yes</td>\n",
       "      <td>Yes</td>\n",
       "      <td>Private</td>\n",
       "      <td>Rural</td>\n",
       "      <td>70.09</td>\n",
       "      <td>27.4</td>\n",
       "      <td>never smoked</td>\n",
       "      <td>Yes</td>\n",
       "      <td>Senior Adult</td>\n",
       "    </tr>\n",
       "    <tr>\n",
       "      <th>7</th>\n",
       "      <td>Female</td>\n",
       "      <td>69.0</td>\n",
       "      <td>No</td>\n",
       "      <td>No</td>\n",
       "      <td>No</td>\n",
       "      <td>Private</td>\n",
       "      <td>Urban</td>\n",
       "      <td>94.39</td>\n",
       "      <td>22.8</td>\n",
       "      <td>never smoked</td>\n",
       "      <td>No</td>\n",
       "      <td>Senior Adult</td>\n",
       "    </tr>\n",
       "    <tr>\n",
       "      <th>8</th>\n",
       "      <td>Female</td>\n",
       "      <td>59.0</td>\n",
       "      <td>No</td>\n",
       "      <td>No</td>\n",
       "      <td>Yes</td>\n",
       "      <td>Private</td>\n",
       "      <td>Rural</td>\n",
       "      <td>76.15</td>\n",
       "      <td>NaN</td>\n",
       "      <td>Unknown</td>\n",
       "      <td>No</td>\n",
       "      <td>Middle Age Adult</td>\n",
       "    </tr>\n",
       "    <tr>\n",
       "      <th>9</th>\n",
       "      <td>Female</td>\n",
       "      <td>78.0</td>\n",
       "      <td>No</td>\n",
       "      <td>No</td>\n",
       "      <td>Yes</td>\n",
       "      <td>Private</td>\n",
       "      <td>Urban</td>\n",
       "      <td>58.57</td>\n",
       "      <td>24.2</td>\n",
       "      <td>Unknown</td>\n",
       "      <td>No</td>\n",
       "      <td>Senior Adult</td>\n",
       "    </tr>\n",
       "  </tbody>\n",
       "</table>\n",
       "</div>"
      ],
      "text/plain": [
       "   gender   age hypertension heart_disease ever_married      work_type  \\\n",
       "0    Male  67.0           No           Yes          Yes        Private   \n",
       "1  Female  61.0           No            No          Yes  Self Employed   \n",
       "2    Male  80.0           No           Yes          Yes        Private   \n",
       "3  Female  49.0           No            No          Yes        Private   \n",
       "4  Female  79.0          Yes            No          Yes  Self Employed   \n",
       "5    Male  81.0           No            No          Yes        Private   \n",
       "6    Male  74.0          Yes           Yes          Yes        Private   \n",
       "7  Female  69.0           No            No           No        Private   \n",
       "8  Female  59.0           No            No          Yes        Private   \n",
       "9  Female  78.0           No            No          Yes        Private   \n",
       "\n",
       "  Residence_type  avg_glucose_level   bmi   smoking_status brain_stroke  \\\n",
       "0          Urban             228.69  36.6  formerly smoked          Yes   \n",
       "1          Rural             202.21   NaN     never smoked           No   \n",
       "2          Rural             105.92  32.5     never smoked          Yes   \n",
       "3          Urban             171.23  34.4           smokes           No   \n",
       "4          Rural             174.12  24.0     never smoked           No   \n",
       "5          Urban             186.21  29.0  formerly smoked           No   \n",
       "6          Rural              70.09  27.4     never smoked          Yes   \n",
       "7          Urban              94.39  22.8     never smoked           No   \n",
       "8          Rural              76.15   NaN          Unknown           No   \n",
       "9          Urban              58.57  24.2          Unknown           No   \n",
       "\n",
       "       stage_of_life  \n",
       "0       Senior Adult  \n",
       "1       Senior Adult  \n",
       "2       Senior Adult  \n",
       "3  Middle Age Adult   \n",
       "4       Senior Adult  \n",
       "5       Senior Adult  \n",
       "6       Senior Adult  \n",
       "7       Senior Adult  \n",
       "8  Middle Age Adult   \n",
       "9       Senior Adult  "
      ]
     },
     "execution_count": 378,
     "metadata": {},
     "output_type": "execute_result"
    }
   ],
   "source": [
    "df_brain.head(10)"
   ]
  },
  {
   "cell_type": "markdown",
   "id": "14ed7d32",
   "metadata": {},
   "source": [
    "I am adding one more column 'weight_status' as bmi might have different values and difficult guage details on that. So, weight_status will categorize them into 3 different categories.Instead of bmi, I feel weight_status will be best suited for analysis."
   ]
  },
  {
   "cell_type": "code",
   "execution_count": 379,
   "id": "4dafd9dd",
   "metadata": {},
   "outputs": [],
   "source": [
    "df_brain['weight_status'] = np.where(df_brain.bmi < 18.5, 'Underweight', \n",
    "                                 np.where(df_brain.bmi < 25.0, 'Healthy weight', \n",
    "                                 np.where(df_brain.bmi < 30, 'Overweight','Obesity')))"
   ]
  },
  {
   "cell_type": "code",
   "execution_count": 380,
   "id": "a79f8372",
   "metadata": {},
   "outputs": [
    {
     "data": {
      "text/html": [
       "<div>\n",
       "<style scoped>\n",
       "    .dataframe tbody tr th:only-of-type {\n",
       "        vertical-align: middle;\n",
       "    }\n",
       "\n",
       "    .dataframe tbody tr th {\n",
       "        vertical-align: top;\n",
       "    }\n",
       "\n",
       "    .dataframe thead th {\n",
       "        text-align: right;\n",
       "    }\n",
       "</style>\n",
       "<table border=\"1\" class=\"dataframe\">\n",
       "  <thead>\n",
       "    <tr style=\"text-align: right;\">\n",
       "      <th></th>\n",
       "      <th>gender</th>\n",
       "      <th>age</th>\n",
       "      <th>hypertension</th>\n",
       "      <th>heart_disease</th>\n",
       "      <th>ever_married</th>\n",
       "      <th>work_type</th>\n",
       "      <th>Residence_type</th>\n",
       "      <th>avg_glucose_level</th>\n",
       "      <th>bmi</th>\n",
       "      <th>smoking_status</th>\n",
       "      <th>brain_stroke</th>\n",
       "      <th>stage_of_life</th>\n",
       "      <th>weight_status</th>\n",
       "    </tr>\n",
       "  </thead>\n",
       "  <tbody>\n",
       "    <tr>\n",
       "      <th>0</th>\n",
       "      <td>Male</td>\n",
       "      <td>67.0</td>\n",
       "      <td>No</td>\n",
       "      <td>Yes</td>\n",
       "      <td>Yes</td>\n",
       "      <td>Private</td>\n",
       "      <td>Urban</td>\n",
       "      <td>228.69</td>\n",
       "      <td>36.6</td>\n",
       "      <td>formerly smoked</td>\n",
       "      <td>Yes</td>\n",
       "      <td>Senior Adult</td>\n",
       "      <td>Obesity</td>\n",
       "    </tr>\n",
       "    <tr>\n",
       "      <th>1</th>\n",
       "      <td>Female</td>\n",
       "      <td>61.0</td>\n",
       "      <td>No</td>\n",
       "      <td>No</td>\n",
       "      <td>Yes</td>\n",
       "      <td>Self Employed</td>\n",
       "      <td>Rural</td>\n",
       "      <td>202.21</td>\n",
       "      <td>NaN</td>\n",
       "      <td>never smoked</td>\n",
       "      <td>No</td>\n",
       "      <td>Senior Adult</td>\n",
       "      <td>Obesity</td>\n",
       "    </tr>\n",
       "    <tr>\n",
       "      <th>2</th>\n",
       "      <td>Male</td>\n",
       "      <td>80.0</td>\n",
       "      <td>No</td>\n",
       "      <td>Yes</td>\n",
       "      <td>Yes</td>\n",
       "      <td>Private</td>\n",
       "      <td>Rural</td>\n",
       "      <td>105.92</td>\n",
       "      <td>32.5</td>\n",
       "      <td>never smoked</td>\n",
       "      <td>Yes</td>\n",
       "      <td>Senior Adult</td>\n",
       "      <td>Obesity</td>\n",
       "    </tr>\n",
       "    <tr>\n",
       "      <th>3</th>\n",
       "      <td>Female</td>\n",
       "      <td>49.0</td>\n",
       "      <td>No</td>\n",
       "      <td>No</td>\n",
       "      <td>Yes</td>\n",
       "      <td>Private</td>\n",
       "      <td>Urban</td>\n",
       "      <td>171.23</td>\n",
       "      <td>34.4</td>\n",
       "      <td>smokes</td>\n",
       "      <td>No</td>\n",
       "      <td>Middle Age Adult</td>\n",
       "      <td>Obesity</td>\n",
       "    </tr>\n",
       "    <tr>\n",
       "      <th>4</th>\n",
       "      <td>Female</td>\n",
       "      <td>79.0</td>\n",
       "      <td>Yes</td>\n",
       "      <td>No</td>\n",
       "      <td>Yes</td>\n",
       "      <td>Self Employed</td>\n",
       "      <td>Rural</td>\n",
       "      <td>174.12</td>\n",
       "      <td>24.0</td>\n",
       "      <td>never smoked</td>\n",
       "      <td>No</td>\n",
       "      <td>Senior Adult</td>\n",
       "      <td>Healthy weight</td>\n",
       "    </tr>\n",
       "    <tr>\n",
       "      <th>5</th>\n",
       "      <td>Male</td>\n",
       "      <td>81.0</td>\n",
       "      <td>No</td>\n",
       "      <td>No</td>\n",
       "      <td>Yes</td>\n",
       "      <td>Private</td>\n",
       "      <td>Urban</td>\n",
       "      <td>186.21</td>\n",
       "      <td>29.0</td>\n",
       "      <td>formerly smoked</td>\n",
       "      <td>No</td>\n",
       "      <td>Senior Adult</td>\n",
       "      <td>Overweight</td>\n",
       "    </tr>\n",
       "    <tr>\n",
       "      <th>6</th>\n",
       "      <td>Male</td>\n",
       "      <td>74.0</td>\n",
       "      <td>Yes</td>\n",
       "      <td>Yes</td>\n",
       "      <td>Yes</td>\n",
       "      <td>Private</td>\n",
       "      <td>Rural</td>\n",
       "      <td>70.09</td>\n",
       "      <td>27.4</td>\n",
       "      <td>never smoked</td>\n",
       "      <td>Yes</td>\n",
       "      <td>Senior Adult</td>\n",
       "      <td>Overweight</td>\n",
       "    </tr>\n",
       "    <tr>\n",
       "      <th>7</th>\n",
       "      <td>Female</td>\n",
       "      <td>69.0</td>\n",
       "      <td>No</td>\n",
       "      <td>No</td>\n",
       "      <td>No</td>\n",
       "      <td>Private</td>\n",
       "      <td>Urban</td>\n",
       "      <td>94.39</td>\n",
       "      <td>22.8</td>\n",
       "      <td>never smoked</td>\n",
       "      <td>No</td>\n",
       "      <td>Senior Adult</td>\n",
       "      <td>Healthy weight</td>\n",
       "    </tr>\n",
       "    <tr>\n",
       "      <th>8</th>\n",
       "      <td>Female</td>\n",
       "      <td>59.0</td>\n",
       "      <td>No</td>\n",
       "      <td>No</td>\n",
       "      <td>Yes</td>\n",
       "      <td>Private</td>\n",
       "      <td>Rural</td>\n",
       "      <td>76.15</td>\n",
       "      <td>NaN</td>\n",
       "      <td>Unknown</td>\n",
       "      <td>No</td>\n",
       "      <td>Middle Age Adult</td>\n",
       "      <td>Obesity</td>\n",
       "    </tr>\n",
       "    <tr>\n",
       "      <th>9</th>\n",
       "      <td>Female</td>\n",
       "      <td>78.0</td>\n",
       "      <td>No</td>\n",
       "      <td>No</td>\n",
       "      <td>Yes</td>\n",
       "      <td>Private</td>\n",
       "      <td>Urban</td>\n",
       "      <td>58.57</td>\n",
       "      <td>24.2</td>\n",
       "      <td>Unknown</td>\n",
       "      <td>No</td>\n",
       "      <td>Senior Adult</td>\n",
       "      <td>Healthy weight</td>\n",
       "    </tr>\n",
       "  </tbody>\n",
       "</table>\n",
       "</div>"
      ],
      "text/plain": [
       "   gender   age hypertension heart_disease ever_married      work_type  \\\n",
       "0    Male  67.0           No           Yes          Yes        Private   \n",
       "1  Female  61.0           No            No          Yes  Self Employed   \n",
       "2    Male  80.0           No           Yes          Yes        Private   \n",
       "3  Female  49.0           No            No          Yes        Private   \n",
       "4  Female  79.0          Yes            No          Yes  Self Employed   \n",
       "5    Male  81.0           No            No          Yes        Private   \n",
       "6    Male  74.0          Yes           Yes          Yes        Private   \n",
       "7  Female  69.0           No            No           No        Private   \n",
       "8  Female  59.0           No            No          Yes        Private   \n",
       "9  Female  78.0           No            No          Yes        Private   \n",
       "\n",
       "  Residence_type  avg_glucose_level   bmi   smoking_status brain_stroke  \\\n",
       "0          Urban             228.69  36.6  formerly smoked          Yes   \n",
       "1          Rural             202.21   NaN     never smoked           No   \n",
       "2          Rural             105.92  32.5     never smoked          Yes   \n",
       "3          Urban             171.23  34.4           smokes           No   \n",
       "4          Rural             174.12  24.0     never smoked           No   \n",
       "5          Urban             186.21  29.0  formerly smoked           No   \n",
       "6          Rural              70.09  27.4     never smoked          Yes   \n",
       "7          Urban              94.39  22.8     never smoked           No   \n",
       "8          Rural              76.15   NaN          Unknown           No   \n",
       "9          Urban              58.57  24.2          Unknown           No   \n",
       "\n",
       "       stage_of_life   weight_status  \n",
       "0       Senior Adult         Obesity  \n",
       "1       Senior Adult         Obesity  \n",
       "2       Senior Adult         Obesity  \n",
       "3  Middle Age Adult          Obesity  \n",
       "4       Senior Adult  Healthy weight  \n",
       "5       Senior Adult      Overweight  \n",
       "6       Senior Adult      Overweight  \n",
       "7       Senior Adult  Healthy weight  \n",
       "8  Middle Age Adult          Obesity  \n",
       "9       Senior Adult  Healthy weight  "
      ]
     },
     "execution_count": 380,
     "metadata": {},
     "output_type": "execute_result"
    }
   ],
   "source": [
    "df_brain.head(10)"
   ]
  },
  {
   "cell_type": "markdown",
   "id": "07d2cb9d",
   "metadata": {},
   "source": [
    "# 6. Replace Null Values"
   ]
  },
  {
   "cell_type": "code",
   "execution_count": 381,
   "id": "b148bf75",
   "metadata": {},
   "outputs": [
    {
     "data": {
      "text/plain": [
       "gender                 0\n",
       "age                    0\n",
       "hypertension           0\n",
       "heart_disease          0\n",
       "ever_married           0\n",
       "work_type              0\n",
       "Residence_type         0\n",
       "avg_glucose_level      0\n",
       "bmi                  201\n",
       "smoking_status         0\n",
       "brain_stroke           0\n",
       "stage_of_life          0\n",
       "weight_status          0\n",
       "dtype: int64"
      ]
     },
     "execution_count": 381,
     "metadata": {},
     "output_type": "execute_result"
    }
   ],
   "source": [
    "df_brain.isnull().sum()"
   ]
  },
  {
   "cell_type": "markdown",
   "id": "63eeb0f5",
   "metadata": {},
   "source": [
    "As there are 201 null values for bmi, if we remove them, it will reduce dataset drastically. So, I am replacing null values with median."
   ]
  },
  {
   "cell_type": "code",
   "execution_count": 382,
   "id": "009138c5",
   "metadata": {},
   "outputs": [],
   "source": [
    "df_brain['bmi'] = df_brain['bmi'].fillna(df_brain['bmi'].median())"
   ]
  },
  {
   "cell_type": "code",
   "execution_count": 383,
   "id": "f2815f8d",
   "metadata": {},
   "outputs": [
    {
     "data": {
      "text/plain": [
       "gender               0\n",
       "age                  0\n",
       "hypertension         0\n",
       "heart_disease        0\n",
       "ever_married         0\n",
       "work_type            0\n",
       "Residence_type       0\n",
       "avg_glucose_level    0\n",
       "bmi                  0\n",
       "smoking_status       0\n",
       "brain_stroke         0\n",
       "stage_of_life        0\n",
       "weight_status        0\n",
       "dtype: int64"
      ]
     },
     "execution_count": 383,
     "metadata": {},
     "output_type": "execute_result"
    }
   ],
   "source": [
    "df_brain.isnull().sum()"
   ]
  },
  {
   "cell_type": "markdown",
   "id": "a38d149a",
   "metadata": {},
   "source": [
    "# 7. String Values case change"
   ]
  },
  {
   "cell_type": "markdown",
   "id": "5ebe67da",
   "metadata": {},
   "source": [
    "Finally, changing string values to UPPER CASE to avoid same values due to different cases falling into 2 different categories"
   ]
  },
  {
   "cell_type": "code",
   "execution_count": 391,
   "id": "28cc727d",
   "metadata": {},
   "outputs": [],
   "source": [
    "df_brain = df_brain.apply(lambda x: x.astype(str).str.upper())"
   ]
  },
  {
   "cell_type": "code",
   "execution_count": 392,
   "id": "c6931891",
   "metadata": {},
   "outputs": [
    {
     "data": {
      "text/plain": [
       "array(['10.3', '11.3', '11.5', '12.0', '12.3', '12.8', '13.0', '13.2',\n",
       "       '13.3', '13.4', '13.5', '13.7', '13.8', '13.9', '14.0', '14.1',\n",
       "       '14.2', '14.3', '14.4', '14.5', '14.6', '14.8', '14.9', '15.0',\n",
       "       '15.1', '15.2', '15.3', '15.4', '15.5', '15.6', '15.7', '15.8',\n",
       "       '15.9', '16.0', '16.1', '16.2', '16.3', '16.4', '16.5', '16.6',\n",
       "       '16.7', '16.8', '16.9', '17.0', '17.1', '17.2', '17.3', '17.4',\n",
       "       '17.5', '17.6', '17.7', '17.8', '17.9', '18.0', '18.1', '18.2',\n",
       "       '18.3', '18.4', '18.5', '18.6', '18.7', '18.8', '18.9', '19.0',\n",
       "       '19.1', '19.2', '19.3', '19.4', '19.5', '19.6', '19.7', '19.8',\n",
       "       '19.9', '20.0', '20.1', '20.2', '20.3', '20.4', '20.5', '20.6',\n",
       "       '20.7', '20.8', '20.9', '21.0', '21.1', '21.2', '21.3', '21.4',\n",
       "       '21.5', '21.6', '21.7', '21.8', '21.9', '22.0', '22.1', '22.2',\n",
       "       '22.3', '22.4', '22.5', '22.6', '22.7', '22.8', '22.9', '23.0',\n",
       "       '23.1', '23.2', '23.3', '23.4', '23.5', '23.6', '23.7', '23.8',\n",
       "       '23.9', '24.0', '24.1', '24.2', '24.3', '24.4', '24.5', '24.6',\n",
       "       '24.7', '24.8', '24.9', '25.0', '25.1', '25.2', '25.3', '25.4',\n",
       "       '25.5', '25.6', '25.7', '25.8', '25.9', '26.0', '26.1', '26.2',\n",
       "       '26.3', '26.4', '26.5', '26.6', '26.7', '26.8', '26.9', '27.0',\n",
       "       '27.1', '27.2', '27.3', '27.4', '27.5', '27.6', '27.7', '27.8',\n",
       "       '27.9', '28.0', '28.1', '28.2', '28.3', '28.4', '28.5', '28.6',\n",
       "       '28.7', '28.8', '28.9', '29.0', '29.1', '29.2', '29.3', '29.4',\n",
       "       '29.5', '29.6', '29.7', '29.8', '29.9', '30.0', '30.1', '30.2',\n",
       "       '30.3', '30.4', '30.5', '30.6', '30.7', '30.8', '30.9', '31.0',\n",
       "       '31.1', '31.2', '31.3', '31.4', '31.5', '31.6', '31.7', '31.8',\n",
       "       '31.9', '32.0', '32.1', '32.2', '32.3', '32.4', '32.5', '32.6',\n",
       "       '32.7', '32.8', '32.9', '33.0', '33.1', '33.2', '33.3', '33.4',\n",
       "       '33.5', '33.6', '33.7', '33.8', '33.9', '34.0', '34.1', '34.2',\n",
       "       '34.3', '34.4', '34.5', '34.6', '34.7', '34.8', '34.9', '35.0',\n",
       "       '35.1', '35.2', '35.3', '35.4', '35.5', '35.6', '35.7', '35.8',\n",
       "       '35.9', '36.0', '36.1', '36.2', '36.3', '36.4', '36.5', '36.6',\n",
       "       '36.7', '36.8', '36.9', '37.0', '37.1', '37.2', '37.3', '37.4',\n",
       "       '37.5', '37.6', '37.7', '37.8', '37.9', '38.0', '38.1', '38.2',\n",
       "       '38.3', '38.4', '38.5', '38.6', '38.7', '38.8', '38.9', '39.0',\n",
       "       '39.1', '39.2', '39.3', '39.4', '39.5', '39.6', '39.7', '39.8',\n",
       "       '39.9', '40.0', '40.1', '40.2', '40.3', '40.4', '40.5', '40.6',\n",
       "       '40.7', '40.8', '40.9', '41.0', '41.1', '41.2', '41.3', '41.4',\n",
       "       '41.5', '41.6', '41.7', '41.8', '41.9', '42.0', '42.1', '42.2',\n",
       "       '42.3', '42.4', '42.5', '42.6', '42.7', '42.8', '42.9', '43.0',\n",
       "       '43.1', '43.2', '43.3', '43.4', '43.6', '43.7', '43.8', '43.9',\n",
       "       '44.0', '44.1', '44.2', '44.3', '44.4', '44.5', '44.6', '44.7',\n",
       "       '44.8', '44.9', '45.0', '45.1', '45.2', '45.3', '45.4', '45.5',\n",
       "       '45.7', '45.8', '45.9', '46.0', '46.1', '46.2', '46.3', '46.4',\n",
       "       '46.5', '46.6', '46.8', '46.9', '47.1', '47.3', '47.4', '47.5',\n",
       "       '47.6', '47.8', '47.9', '48.0', '48.1', '48.2', '48.3', '48.4',\n",
       "       '48.5', '48.7', '48.8', '48.9', '49.2', '49.3', '49.4', '49.5',\n",
       "       '49.8', '49.9', '50.1', '50.2', '50.3', '50.4', '50.5', '50.6',\n",
       "       '50.8', '50.9', '51.0', '51.5', '51.7', '51.8', '51.9', '52.3',\n",
       "       '52.5', '52.7', '52.8', '52.9', '53.4', '53.5', '53.8', '53.9',\n",
       "       '54.0'], dtype=object)"
      ]
     },
     "execution_count": 392,
     "metadata": {},
     "output_type": "execute_result"
    }
   ],
   "source": [
    "np.sort(df_brain['bmi'].unique())"
   ]
  },
  {
   "cell_type": "markdown",
   "id": "6c973be6",
   "metadata": {},
   "source": [
    "Final dataset after Data preparation:"
   ]
  },
  {
   "cell_type": "code",
   "execution_count": 393,
   "id": "b211f234",
   "metadata": {},
   "outputs": [
    {
     "data": {
      "text/html": [
       "<div>\n",
       "<style scoped>\n",
       "    .dataframe tbody tr th:only-of-type {\n",
       "        vertical-align: middle;\n",
       "    }\n",
       "\n",
       "    .dataframe tbody tr th {\n",
       "        vertical-align: top;\n",
       "    }\n",
       "\n",
       "    .dataframe thead th {\n",
       "        text-align: right;\n",
       "    }\n",
       "</style>\n",
       "<table border=\"1\" class=\"dataframe\">\n",
       "  <thead>\n",
       "    <tr style=\"text-align: right;\">\n",
       "      <th></th>\n",
       "      <th>gender</th>\n",
       "      <th>age</th>\n",
       "      <th>hypertension</th>\n",
       "      <th>heart_disease</th>\n",
       "      <th>ever_married</th>\n",
       "      <th>work_type</th>\n",
       "      <th>Residence_type</th>\n",
       "      <th>avg_glucose_level</th>\n",
       "      <th>bmi</th>\n",
       "      <th>smoking_status</th>\n",
       "      <th>brain_stroke</th>\n",
       "      <th>stage_of_life</th>\n",
       "      <th>weight_status</th>\n",
       "    </tr>\n",
       "  </thead>\n",
       "  <tbody>\n",
       "    <tr>\n",
       "      <th>0</th>\n",
       "      <td>MALE</td>\n",
       "      <td>67.0</td>\n",
       "      <td>NO</td>\n",
       "      <td>YES</td>\n",
       "      <td>YES</td>\n",
       "      <td>PRIVATE</td>\n",
       "      <td>URBAN</td>\n",
       "      <td>228.69</td>\n",
       "      <td>36.6</td>\n",
       "      <td>FORMERLY SMOKED</td>\n",
       "      <td>YES</td>\n",
       "      <td>SENIOR ADULT</td>\n",
       "      <td>OBESITY</td>\n",
       "    </tr>\n",
       "    <tr>\n",
       "      <th>1</th>\n",
       "      <td>FEMALE</td>\n",
       "      <td>61.0</td>\n",
       "      <td>NO</td>\n",
       "      <td>NO</td>\n",
       "      <td>YES</td>\n",
       "      <td>SELF EMPLOYED</td>\n",
       "      <td>RURAL</td>\n",
       "      <td>202.21</td>\n",
       "      <td>28.1</td>\n",
       "      <td>NEVER SMOKED</td>\n",
       "      <td>NO</td>\n",
       "      <td>SENIOR ADULT</td>\n",
       "      <td>OBESITY</td>\n",
       "    </tr>\n",
       "    <tr>\n",
       "      <th>2</th>\n",
       "      <td>MALE</td>\n",
       "      <td>80.0</td>\n",
       "      <td>NO</td>\n",
       "      <td>YES</td>\n",
       "      <td>YES</td>\n",
       "      <td>PRIVATE</td>\n",
       "      <td>RURAL</td>\n",
       "      <td>105.92</td>\n",
       "      <td>32.5</td>\n",
       "      <td>NEVER SMOKED</td>\n",
       "      <td>YES</td>\n",
       "      <td>SENIOR ADULT</td>\n",
       "      <td>OBESITY</td>\n",
       "    </tr>\n",
       "    <tr>\n",
       "      <th>3</th>\n",
       "      <td>FEMALE</td>\n",
       "      <td>49.0</td>\n",
       "      <td>NO</td>\n",
       "      <td>NO</td>\n",
       "      <td>YES</td>\n",
       "      <td>PRIVATE</td>\n",
       "      <td>URBAN</td>\n",
       "      <td>171.23</td>\n",
       "      <td>34.4</td>\n",
       "      <td>SMOKES</td>\n",
       "      <td>NO</td>\n",
       "      <td>MIDDLE AGE ADULT</td>\n",
       "      <td>OBESITY</td>\n",
       "    </tr>\n",
       "    <tr>\n",
       "      <th>4</th>\n",
       "      <td>FEMALE</td>\n",
       "      <td>79.0</td>\n",
       "      <td>YES</td>\n",
       "      <td>NO</td>\n",
       "      <td>YES</td>\n",
       "      <td>SELF EMPLOYED</td>\n",
       "      <td>RURAL</td>\n",
       "      <td>174.12</td>\n",
       "      <td>24.0</td>\n",
       "      <td>NEVER SMOKED</td>\n",
       "      <td>NO</td>\n",
       "      <td>SENIOR ADULT</td>\n",
       "      <td>HEALTHY WEIGHT</td>\n",
       "    </tr>\n",
       "    <tr>\n",
       "      <th>...</th>\n",
       "      <td>...</td>\n",
       "      <td>...</td>\n",
       "      <td>...</td>\n",
       "      <td>...</td>\n",
       "      <td>...</td>\n",
       "      <td>...</td>\n",
       "      <td>...</td>\n",
       "      <td>...</td>\n",
       "      <td>...</td>\n",
       "      <td>...</td>\n",
       "      <td>...</td>\n",
       "      <td>...</td>\n",
       "      <td>...</td>\n",
       "    </tr>\n",
       "    <tr>\n",
       "      <th>5105</th>\n",
       "      <td>FEMALE</td>\n",
       "      <td>80.0</td>\n",
       "      <td>YES</td>\n",
       "      <td>NO</td>\n",
       "      <td>YES</td>\n",
       "      <td>PRIVATE</td>\n",
       "      <td>URBAN</td>\n",
       "      <td>83.75</td>\n",
       "      <td>28.1</td>\n",
       "      <td>NEVER SMOKED</td>\n",
       "      <td>NO</td>\n",
       "      <td>SENIOR ADULT</td>\n",
       "      <td>OBESITY</td>\n",
       "    </tr>\n",
       "    <tr>\n",
       "      <th>5106</th>\n",
       "      <td>FEMALE</td>\n",
       "      <td>81.0</td>\n",
       "      <td>NO</td>\n",
       "      <td>NO</td>\n",
       "      <td>YES</td>\n",
       "      <td>SELF EMPLOYED</td>\n",
       "      <td>URBAN</td>\n",
       "      <td>125.2</td>\n",
       "      <td>40.0</td>\n",
       "      <td>NEVER SMOKED</td>\n",
       "      <td>NO</td>\n",
       "      <td>SENIOR ADULT</td>\n",
       "      <td>OBESITY</td>\n",
       "    </tr>\n",
       "    <tr>\n",
       "      <th>5107</th>\n",
       "      <td>FEMALE</td>\n",
       "      <td>35.0</td>\n",
       "      <td>NO</td>\n",
       "      <td>NO</td>\n",
       "      <td>YES</td>\n",
       "      <td>SELF EMPLOYED</td>\n",
       "      <td>RURAL</td>\n",
       "      <td>82.99</td>\n",
       "      <td>30.6</td>\n",
       "      <td>NEVER SMOKED</td>\n",
       "      <td>NO</td>\n",
       "      <td>ADULT</td>\n",
       "      <td>OBESITY</td>\n",
       "    </tr>\n",
       "    <tr>\n",
       "      <th>5108</th>\n",
       "      <td>MALE</td>\n",
       "      <td>51.0</td>\n",
       "      <td>NO</td>\n",
       "      <td>NO</td>\n",
       "      <td>YES</td>\n",
       "      <td>PRIVATE</td>\n",
       "      <td>RURAL</td>\n",
       "      <td>166.29</td>\n",
       "      <td>25.6</td>\n",
       "      <td>FORMERLY SMOKED</td>\n",
       "      <td>NO</td>\n",
       "      <td>MIDDLE AGE ADULT</td>\n",
       "      <td>OVERWEIGHT</td>\n",
       "    </tr>\n",
       "    <tr>\n",
       "      <th>5109</th>\n",
       "      <td>FEMALE</td>\n",
       "      <td>44.0</td>\n",
       "      <td>NO</td>\n",
       "      <td>NO</td>\n",
       "      <td>YES</td>\n",
       "      <td>GOVERNMENT</td>\n",
       "      <td>URBAN</td>\n",
       "      <td>85.28</td>\n",
       "      <td>26.2</td>\n",
       "      <td>UNKNOWN</td>\n",
       "      <td>NO</td>\n",
       "      <td>MIDDLE AGE ADULT</td>\n",
       "      <td>OVERWEIGHT</td>\n",
       "    </tr>\n",
       "  </tbody>\n",
       "</table>\n",
       "<p>5110 rows × 13 columns</p>\n",
       "</div>"
      ],
      "text/plain": [
       "      gender   age hypertension heart_disease ever_married      work_type  \\\n",
       "0       MALE  67.0           NO           YES          YES        PRIVATE   \n",
       "1     FEMALE  61.0           NO            NO          YES  SELF EMPLOYED   \n",
       "2       MALE  80.0           NO           YES          YES        PRIVATE   \n",
       "3     FEMALE  49.0           NO            NO          YES        PRIVATE   \n",
       "4     FEMALE  79.0          YES            NO          YES  SELF EMPLOYED   \n",
       "...      ...   ...          ...           ...          ...            ...   \n",
       "5105  FEMALE  80.0          YES            NO          YES        PRIVATE   \n",
       "5106  FEMALE  81.0           NO            NO          YES  SELF EMPLOYED   \n",
       "5107  FEMALE  35.0           NO            NO          YES  SELF EMPLOYED   \n",
       "5108    MALE  51.0           NO            NO          YES        PRIVATE   \n",
       "5109  FEMALE  44.0           NO            NO          YES     GOVERNMENT   \n",
       "\n",
       "     Residence_type avg_glucose_level   bmi   smoking_status brain_stroke  \\\n",
       "0             URBAN            228.69  36.6  FORMERLY SMOKED          YES   \n",
       "1             RURAL            202.21  28.1     NEVER SMOKED           NO   \n",
       "2             RURAL            105.92  32.5     NEVER SMOKED          YES   \n",
       "3             URBAN            171.23  34.4           SMOKES           NO   \n",
       "4             RURAL            174.12  24.0     NEVER SMOKED           NO   \n",
       "...             ...               ...   ...              ...          ...   \n",
       "5105          URBAN             83.75  28.1     NEVER SMOKED           NO   \n",
       "5106          URBAN             125.2  40.0     NEVER SMOKED           NO   \n",
       "5107          RURAL             82.99  30.6     NEVER SMOKED           NO   \n",
       "5108          RURAL            166.29  25.6  FORMERLY SMOKED           NO   \n",
       "5109          URBAN             85.28  26.2          UNKNOWN           NO   \n",
       "\n",
       "          stage_of_life   weight_status  \n",
       "0          SENIOR ADULT         OBESITY  \n",
       "1          SENIOR ADULT         OBESITY  \n",
       "2          SENIOR ADULT         OBESITY  \n",
       "3     MIDDLE AGE ADULT          OBESITY  \n",
       "4          SENIOR ADULT  HEALTHY WEIGHT  \n",
       "...                 ...             ...  \n",
       "5105       SENIOR ADULT         OBESITY  \n",
       "5106       SENIOR ADULT         OBESITY  \n",
       "5107              ADULT         OBESITY  \n",
       "5108  MIDDLE AGE ADULT       OVERWEIGHT  \n",
       "5109  MIDDLE AGE ADULT       OVERWEIGHT  \n",
       "\n",
       "[5110 rows x 13 columns]"
      ]
     },
     "execution_count": 393,
     "metadata": {},
     "output_type": "execute_result"
    }
   ],
   "source": [
    "df_brain"
   ]
  }
 ],
 "metadata": {
  "kernelspec": {
   "display_name": "Python 3 (ipykernel)",
   "language": "python",
   "name": "python3"
  },
  "language_info": {
   "codemirror_mode": {
    "name": "ipython",
    "version": 3
   },
   "file_extension": ".py",
   "mimetype": "text/x-python",
   "name": "python",
   "nbconvert_exporter": "python",
   "pygments_lexer": "ipython3",
   "version": "3.9.12"
  }
 },
 "nbformat": 4,
 "nbformat_minor": 5
}
