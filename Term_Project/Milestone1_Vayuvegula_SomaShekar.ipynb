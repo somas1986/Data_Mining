{
 "cells": [
  {
   "cell_type": "code",
   "execution_count": 156,
   "id": "e8a9c85a",
   "metadata": {},
   "outputs": [],
   "source": [
    "#Import libraries\n",
    "import pandas as pd\n",
    "import numpy as np\n",
    "import matplotlib.pyplot as plt"
   ]
  },
  {
   "cell_type": "code",
   "execution_count": 157,
   "id": "1d8dc752",
   "metadata": {},
   "outputs": [],
   "source": [
    "#Read CSV file\n",
    "df_brain= pd.read_csv(\"brain_stroke.csv\")"
   ]
  },
  {
   "cell_type": "code",
   "execution_count": 158,
   "id": "075f7dc6",
   "metadata": {},
   "outputs": [
    {
     "data": {
      "text/html": [
       "<div>\n",
       "<style scoped>\n",
       "    .dataframe tbody tr th:only-of-type {\n",
       "        vertical-align: middle;\n",
       "    }\n",
       "\n",
       "    .dataframe tbody tr th {\n",
       "        vertical-align: top;\n",
       "    }\n",
       "\n",
       "    .dataframe thead th {\n",
       "        text-align: right;\n",
       "    }\n",
       "</style>\n",
       "<table border=\"1\" class=\"dataframe\">\n",
       "  <thead>\n",
       "    <tr style=\"text-align: right;\">\n",
       "      <th></th>\n",
       "      <th>gender</th>\n",
       "      <th>age</th>\n",
       "      <th>hypertension</th>\n",
       "      <th>heart_disease</th>\n",
       "      <th>ever_married</th>\n",
       "      <th>work_type</th>\n",
       "      <th>Residence_type</th>\n",
       "      <th>avg_glucose_level</th>\n",
       "      <th>bmi</th>\n",
       "      <th>smoking_status</th>\n",
       "      <th>stroke</th>\n",
       "    </tr>\n",
       "  </thead>\n",
       "  <tbody>\n",
       "    <tr>\n",
       "      <th>0</th>\n",
       "      <td>Male</td>\n",
       "      <td>67.0</td>\n",
       "      <td>0</td>\n",
       "      <td>1</td>\n",
       "      <td>Yes</td>\n",
       "      <td>Private</td>\n",
       "      <td>Urban</td>\n",
       "      <td>228.69</td>\n",
       "      <td>36.6</td>\n",
       "      <td>formerly smoked</td>\n",
       "      <td>1</td>\n",
       "    </tr>\n",
       "    <tr>\n",
       "      <th>1</th>\n",
       "      <td>Male</td>\n",
       "      <td>80.0</td>\n",
       "      <td>0</td>\n",
       "      <td>1</td>\n",
       "      <td>Yes</td>\n",
       "      <td>Private</td>\n",
       "      <td>Rural</td>\n",
       "      <td>105.92</td>\n",
       "      <td>32.5</td>\n",
       "      <td>never smoked</td>\n",
       "      <td>1</td>\n",
       "    </tr>\n",
       "    <tr>\n",
       "      <th>2</th>\n",
       "      <td>Female</td>\n",
       "      <td>49.0</td>\n",
       "      <td>0</td>\n",
       "      <td>0</td>\n",
       "      <td>Yes</td>\n",
       "      <td>Private</td>\n",
       "      <td>Urban</td>\n",
       "      <td>171.23</td>\n",
       "      <td>34.4</td>\n",
       "      <td>smokes</td>\n",
       "      <td>1</td>\n",
       "    </tr>\n",
       "    <tr>\n",
       "      <th>3</th>\n",
       "      <td>Female</td>\n",
       "      <td>79.0</td>\n",
       "      <td>1</td>\n",
       "      <td>0</td>\n",
       "      <td>Yes</td>\n",
       "      <td>Self-employed</td>\n",
       "      <td>Rural</td>\n",
       "      <td>174.12</td>\n",
       "      <td>24.0</td>\n",
       "      <td>never smoked</td>\n",
       "      <td>1</td>\n",
       "    </tr>\n",
       "    <tr>\n",
       "      <th>4</th>\n",
       "      <td>Male</td>\n",
       "      <td>81.0</td>\n",
       "      <td>0</td>\n",
       "      <td>0</td>\n",
       "      <td>Yes</td>\n",
       "      <td>Private</td>\n",
       "      <td>Urban</td>\n",
       "      <td>186.21</td>\n",
       "      <td>29.0</td>\n",
       "      <td>formerly smoked</td>\n",
       "      <td>1</td>\n",
       "    </tr>\n",
       "  </tbody>\n",
       "</table>\n",
       "</div>"
      ],
      "text/plain": [
       "   gender   age  hypertension  heart_disease ever_married      work_type  \\\n",
       "0    Male  67.0             0              1          Yes        Private   \n",
       "1    Male  80.0             0              1          Yes        Private   \n",
       "2  Female  49.0             0              0          Yes        Private   \n",
       "3  Female  79.0             1              0          Yes  Self-employed   \n",
       "4    Male  81.0             0              0          Yes        Private   \n",
       "\n",
       "  Residence_type  avg_glucose_level   bmi   smoking_status  stroke  \n",
       "0          Urban             228.69  36.6  formerly smoked       1  \n",
       "1          Rural             105.92  32.5     never smoked       1  \n",
       "2          Urban             171.23  34.4           smokes       1  \n",
       "3          Rural             174.12  24.0     never smoked       1  \n",
       "4          Urban             186.21  29.0  formerly smoked       1  "
      ]
     },
     "execution_count": 158,
     "metadata": {},
     "output_type": "execute_result"
    }
   ],
   "source": [
    "df_brain.head()"
   ]
  },
  {
   "cell_type": "code",
   "execution_count": 159,
   "id": "72915988",
   "metadata": {},
   "outputs": [
    {
     "data": {
      "text/plain": [
       "array(['Male', 'Female'], dtype=object)"
      ]
     },
     "execution_count": 159,
     "metadata": {},
     "output_type": "execute_result"
    }
   ],
   "source": [
    "df_brain['gender'].unique()"
   ]
  },
  {
   "cell_type": "code",
   "execution_count": 160,
   "id": "d40855e7",
   "metadata": {},
   "outputs": [
    {
     "data": {
      "text/plain": [
       "array([0, 1])"
      ]
     },
     "execution_count": 160,
     "metadata": {},
     "output_type": "execute_result"
    }
   ],
   "source": [
    "df_brain['hypertension'].unique()"
   ]
  },
  {
   "cell_type": "code",
   "execution_count": 161,
   "id": "acf7ce3b",
   "metadata": {},
   "outputs": [
    {
     "data": {
      "text/plain": [
       "array([1, 0])"
      ]
     },
     "execution_count": 161,
     "metadata": {},
     "output_type": "execute_result"
    }
   ],
   "source": [
    "df_brain['heart_disease'].unique()"
   ]
  },
  {
   "cell_type": "code",
   "execution_count": 162,
   "id": "e2c612d9",
   "metadata": {},
   "outputs": [
    {
     "data": {
      "text/plain": [
       "array(['Yes', 'No'], dtype=object)"
      ]
     },
     "execution_count": 162,
     "metadata": {},
     "output_type": "execute_result"
    }
   ],
   "source": [
    "df_brain['ever_married'].unique()"
   ]
  },
  {
   "cell_type": "code",
   "execution_count": 163,
   "id": "fe965516",
   "metadata": {},
   "outputs": [
    {
     "data": {
      "text/plain": [
       "array(['Private', 'Self-employed', 'Govt_job', 'children'], dtype=object)"
      ]
     },
     "execution_count": 163,
     "metadata": {},
     "output_type": "execute_result"
    }
   ],
   "source": [
    "df_brain['work_type'].unique()"
   ]
  },
  {
   "cell_type": "code",
   "execution_count": 164,
   "id": "1287a174",
   "metadata": {},
   "outputs": [
    {
     "data": {
      "text/plain": [
       "array([1, 0])"
      ]
     },
     "execution_count": 164,
     "metadata": {},
     "output_type": "execute_result"
    }
   ],
   "source": [
    "df_brain['stroke'].unique()"
   ]
  },
  {
   "cell_type": "markdown",
   "id": "1d524dd1",
   "metadata": {},
   "source": [
    "# Data Transformation"
   ]
  },
  {
   "cell_type": "code",
   "execution_count": 165,
   "id": "85d6c59e",
   "metadata": {},
   "outputs": [],
   "source": [
    "#Changing work type 'Children' as 'Student' as Children is not work type and Changing formatting for other work types\n",
    "\n",
    "df_brain['work_type'] = df_brain['work_type'].replace(['children'], 'Student')\n",
    "df_brain['work_type'] = df_brain['work_type'].replace(['Self-employed'], 'Self Employed')\n",
    "df_brain['work_type'] = df_brain['work_type'].replace(['Govt_job'], 'Government')"
   ]
  },
  {
   "cell_type": "code",
   "execution_count": 166,
   "id": "a3862036",
   "metadata": {},
   "outputs": [
    {
     "data": {
      "text/plain": [
       "array(['Private', 'Self Employed', 'Government', 'Student'], dtype=object)"
      ]
     },
     "execution_count": 166,
     "metadata": {},
     "output_type": "execute_result"
    }
   ],
   "source": [
    "df_brain['work_type'].unique()"
   ]
  },
  {
   "cell_type": "code",
   "execution_count": 167,
   "id": "147a8536",
   "metadata": {},
   "outputs": [],
   "source": [
    "#Changing binary values to string values of Yes and No instead of 1 and 0 respectively for  hypertension and heart_disease\n",
    "df_brain['hypertension'] = df_brain['hypertension'].replace([1], 'Yes')\n",
    "df_brain['hypertension'] = df_brain['hypertension'].replace([0], 'No')\n",
    "\n",
    "df_brain['heart_disease'] = df_brain['heart_disease'].replace([1], 'Yes')\n",
    "df_brain['heart_disease'] = df_brain['heart_disease'].replace([0], 'No')\n",
    "\n",
    "\n",
    "df_brain['stroke'] = df_brain['heart_disease'].replace([1], 'Yes')\n",
    "df_brain['stroke'] = df_brain['heart_disease'].replace([0], 'No')"
   ]
  },
  {
   "cell_type": "code",
   "execution_count": 168,
   "id": "abf6f6ad",
   "metadata": {},
   "outputs": [
    {
     "data": {
      "text/plain": [
       "array(['No', 'Yes'], dtype=object)"
      ]
     },
     "execution_count": 168,
     "metadata": {},
     "output_type": "execute_result"
    }
   ],
   "source": [
    "df_brain['hypertension'].unique()"
   ]
  },
  {
   "cell_type": "code",
   "execution_count": 169,
   "id": "abbffb01",
   "metadata": {},
   "outputs": [
    {
     "data": {
      "text/plain": [
       "array(['Yes', 'No'], dtype=object)"
      ]
     },
     "execution_count": 169,
     "metadata": {},
     "output_type": "execute_result"
    }
   ],
   "source": [
    "df_brain['heart_disease'].unique()"
   ]
  },
  {
   "cell_type": "code",
   "execution_count": 170,
   "id": "bf9514a6",
   "metadata": {},
   "outputs": [
    {
     "data": {
      "text/plain": [
       "array(['Yes', 'No'], dtype=object)"
      ]
     },
     "execution_count": 170,
     "metadata": {},
     "output_type": "execute_result"
    }
   ],
   "source": [
    "df_brain['stroke'].unique()"
   ]
  },
  {
   "cell_type": "code",
   "execution_count": 171,
   "id": "3a64ac4d",
   "metadata": {},
   "outputs": [],
   "source": [
    "#Change column name stroke to brain_stroke as this more meaningful\n",
    "df_brain = df_brain.rename(columns={'stroke': 'brain_stroke'})"
   ]
  },
  {
   "cell_type": "code",
   "execution_count": 172,
   "id": "dd603451",
   "metadata": {},
   "outputs": [
    {
     "data": {
      "text/html": [
       "<div>\n",
       "<style scoped>\n",
       "    .dataframe tbody tr th:only-of-type {\n",
       "        vertical-align: middle;\n",
       "    }\n",
       "\n",
       "    .dataframe tbody tr th {\n",
       "        vertical-align: top;\n",
       "    }\n",
       "\n",
       "    .dataframe thead th {\n",
       "        text-align: right;\n",
       "    }\n",
       "</style>\n",
       "<table border=\"1\" class=\"dataframe\">\n",
       "  <thead>\n",
       "    <tr style=\"text-align: right;\">\n",
       "      <th></th>\n",
       "      <th>gender</th>\n",
       "      <th>age</th>\n",
       "      <th>hypertension</th>\n",
       "      <th>heart_disease</th>\n",
       "      <th>ever_married</th>\n",
       "      <th>work_type</th>\n",
       "      <th>Residence_type</th>\n",
       "      <th>avg_glucose_level</th>\n",
       "      <th>bmi</th>\n",
       "      <th>smoking_status</th>\n",
       "      <th>brain_stroke</th>\n",
       "    </tr>\n",
       "  </thead>\n",
       "  <tbody>\n",
       "    <tr>\n",
       "      <th>0</th>\n",
       "      <td>Male</td>\n",
       "      <td>67.0</td>\n",
       "      <td>No</td>\n",
       "      <td>Yes</td>\n",
       "      <td>Yes</td>\n",
       "      <td>Private</td>\n",
       "      <td>Urban</td>\n",
       "      <td>228.69</td>\n",
       "      <td>36.6</td>\n",
       "      <td>formerly smoked</td>\n",
       "      <td>Yes</td>\n",
       "    </tr>\n",
       "    <tr>\n",
       "      <th>1</th>\n",
       "      <td>Male</td>\n",
       "      <td>80.0</td>\n",
       "      <td>No</td>\n",
       "      <td>Yes</td>\n",
       "      <td>Yes</td>\n",
       "      <td>Private</td>\n",
       "      <td>Rural</td>\n",
       "      <td>105.92</td>\n",
       "      <td>32.5</td>\n",
       "      <td>never smoked</td>\n",
       "      <td>Yes</td>\n",
       "    </tr>\n",
       "    <tr>\n",
       "      <th>2</th>\n",
       "      <td>Female</td>\n",
       "      <td>49.0</td>\n",
       "      <td>No</td>\n",
       "      <td>No</td>\n",
       "      <td>Yes</td>\n",
       "      <td>Private</td>\n",
       "      <td>Urban</td>\n",
       "      <td>171.23</td>\n",
       "      <td>34.4</td>\n",
       "      <td>smokes</td>\n",
       "      <td>No</td>\n",
       "    </tr>\n",
       "    <tr>\n",
       "      <th>3</th>\n",
       "      <td>Female</td>\n",
       "      <td>79.0</td>\n",
       "      <td>Yes</td>\n",
       "      <td>No</td>\n",
       "      <td>Yes</td>\n",
       "      <td>Self Employed</td>\n",
       "      <td>Rural</td>\n",
       "      <td>174.12</td>\n",
       "      <td>24.0</td>\n",
       "      <td>never smoked</td>\n",
       "      <td>No</td>\n",
       "    </tr>\n",
       "    <tr>\n",
       "      <th>4</th>\n",
       "      <td>Male</td>\n",
       "      <td>81.0</td>\n",
       "      <td>No</td>\n",
       "      <td>No</td>\n",
       "      <td>Yes</td>\n",
       "      <td>Private</td>\n",
       "      <td>Urban</td>\n",
       "      <td>186.21</td>\n",
       "      <td>29.0</td>\n",
       "      <td>formerly smoked</td>\n",
       "      <td>No</td>\n",
       "    </tr>\n",
       "  </tbody>\n",
       "</table>\n",
       "</div>"
      ],
      "text/plain": [
       "   gender   age hypertension heart_disease ever_married      work_type  \\\n",
       "0    Male  67.0           No           Yes          Yes        Private   \n",
       "1    Male  80.0           No           Yes          Yes        Private   \n",
       "2  Female  49.0           No            No          Yes        Private   \n",
       "3  Female  79.0          Yes            No          Yes  Self Employed   \n",
       "4    Male  81.0           No            No          Yes        Private   \n",
       "\n",
       "  Residence_type  avg_glucose_level   bmi   smoking_status brain_stroke  \n",
       "0          Urban             228.69  36.6  formerly smoked          Yes  \n",
       "1          Rural             105.92  32.5     never smoked          Yes  \n",
       "2          Urban             171.23  34.4           smokes           No  \n",
       "3          Rural             174.12  24.0     never smoked           No  \n",
       "4          Urban             186.21  29.0  formerly smoked           No  "
      ]
     },
     "execution_count": 172,
     "metadata": {},
     "output_type": "execute_result"
    }
   ],
   "source": [
    "df_brain.head()"
   ]
  },
  {
   "cell_type": "markdown",
   "id": "fd13b069",
   "metadata": {},
   "source": [
    "# Data Visualization"
   ]
  },
  {
   "cell_type": "code",
   "execution_count": 173,
   "id": "54f2cd61",
   "metadata": {},
   "outputs": [
    {
     "data": {
      "text/plain": [
       "<seaborn.axisgrid.FacetGrid at 0x7fcb1bef3880>"
      ]
     },
     "execution_count": 173,
     "metadata": {},
     "output_type": "execute_result"
    },
    {
     "data": {
      "image/png": "[encoded data removed]",
      "text/plain": [
       "<Figure size 720x360 with 2 Axes>"
      ]
     },
     "metadata": {
      "needs_background": "light"
     },
     "output_type": "display_data"
    }
   ],
   "source": [
    "'''plt.figure()\n",
    "plt.hist(df.loc[df_brain['brain_stroke']=='Yes','gender'],align='mid')\n",
    "plt.xlabel('Gender')\n",
    "plt.ylabel('Count of Brain Strokes')\n",
    "plt.title('Comparing Brain Stroke in patients based on the gender category')\n",
    "plt.show()'''\n",
    "import seaborn as sns\n",
    "sns.displot(df_brain, x=\"brain_stroke\", col=\"gender\")"
   ]
  },
  {
   "cell_type": "markdown",
   "id": "a28ecfa2",
   "metadata": {},
   "source": [
    "From the above graphical analysis, we can confirm that Females have more chances of suffering Brain strokes than males."
   ]
  },
  {
   "cell_type": "code",
   "execution_count": 174,
   "id": "fdc0292c",
   "metadata": {},
   "outputs": [
    {
     "data": {
      "text/plain": [
       "<seaborn.axisgrid.FacetGrid at 0x7fcb1bee0880>"
      ]
     },
     "execution_count": 174,
     "metadata": {},
     "output_type": "execute_result"
    },
    {
     "data": {
      "image/png": "[encoded data removed]",
      "text/plain": [
       "<Figure size 720x360 with 2 Axes>"
      ]
     },
     "metadata": {
      "needs_background": "light"
     },
     "output_type": "display_data"
    }
   ],
   "source": [
    "'''plt.figure()\n",
    "plt.hist(df.loc[df_brain['brain_stroke']=='Yes','hypertension'],align='mid')\n",
    "plt.xlabel('Hypertension')\n",
    "plt.ylabel('Count of Brain Strokes')\n",
    "plt.title('1.\tComparing Brain Stroke in patients based on hypertension')\n",
    "plt.show()'''\n",
    "import seaborn as sns\n",
    "sns.displot(df_brain, x=\"brain_stroke\", col=\"hypertension\")"
   ]
  },
  {
   "cell_type": "markdown",
   "id": "1393b51e",
   "metadata": {},
   "source": [
    "From this graphical analysis, we can confirm that with no hypertension lesser chances of Brain stroke"
   ]
  },
  {
   "cell_type": "code",
   "execution_count": 175,
   "id": "a3da4721",
   "metadata": {},
   "outputs": [
    {
     "data": {
      "text/plain": [
       "<seaborn.axisgrid.FacetGrid at 0x7fcb4ab89d30>"
      ]
     },
     "execution_count": 175,
     "metadata": {},
     "output_type": "execute_result"
    },
    {
     "data": {
      "image/png": "[encoded data removed]",
      "text/plain": [
       "<Figure size 720x360 with 2 Axes>"
      ]
     },
     "metadata": {
      "needs_background": "light"
     },
     "output_type": "display_data"
    }
   ],
   "source": [
    "'''plt.figure()\n",
    "plt.hist(df.loc[df_brain['brain_stroke']=='Yes','heart_disease'],align='mid')\n",
    "plt.xlabel('Heart Disease')\n",
    "plt.ylabel('Count of Brain Strokes')\n",
    "plt.title('1.\tComparing Brain Stroke in patients based on heart disease')\n",
    "plt.show()'''\n",
    "import seaborn as sns\n",
    "sns.displot(df_brain, x=\"brain_stroke\", col=\"heart_disease\")"
   ]
  },
  {
   "cell_type": "markdown",
   "id": "7c45f340",
   "metadata": {},
   "source": [
    "As per analysis, With heart disease history have high chances of getting Brain stroke as the grph shows heart disease is directly proportional to Brain Stroke."
   ]
  },
  {
   "cell_type": "code",
   "execution_count": 176,
   "id": "238fa1ce",
   "metadata": {},
   "outputs": [
    {
     "data": {
      "text/plain": [
       "<seaborn.axisgrid.FacetGrid at 0x7fcb19964e50>"
      ]
     },
     "execution_count": 176,
     "metadata": {},
     "output_type": "execute_result"
    },
    {
     "data": {
      "image/png": "[encoded data removed]",
      "text/plain": [
       "<Figure size 1440x360 with 4 Axes>"
      ]
     },
     "metadata": {
      "needs_background": "light"
     },
     "output_type": "display_data"
    }
   ],
   "source": [
    "'''plt.figure()\n",
    "plt.hist(df.loc[df_brain['brain_stroke']=='Yes','smoking_status'],align='mid')\n",
    "plt.xlabel('Smoking Status')\n",
    "plt.ylabel('Count of Brain Strokes')\n",
    "plt.title('Comparing Brain Stroke in patients based on smoking status')\n",
    "plt.show()'''\n",
    "import seaborn as sns\n",
    "sns.displot(df_brain, x=\"brain_stroke\", col=\"smoking_status\")"
   ]
  },
  {
   "cell_type": "markdown",
   "id": "9ed0112c",
   "metadata": {},
   "source": [
    "As per graphical representation, we can confirm that non-smokers have very little chances of getting Brain stroke"
   ]
  },
  {
   "cell_type": "code",
   "execution_count": 177,
   "id": "1242b235",
   "metadata": {},
   "outputs": [
    {
     "data": {
      "text/plain": [
       "<seaborn.axisgrid.FacetGrid at 0x7fcafb1ac1f0>"
      ]
     },
     "execution_count": 177,
     "metadata": {},
     "output_type": "execute_result"
    },
    {
     "data": {
      "image/png": "[encoded data removed]",
      "text/plain": [
       "<Figure size 1509.25x576 with 1 Axes>"
      ]
     },
     "metadata": {
      "needs_background": "light"
     },
     "output_type": "display_data"
    }
   ],
   "source": [
    "'''plt.rcParams[\"figure.figsize\"] = (20,8)\n",
    "plt.hist(df.loc[df_brain['brain_stroke']!='No','age'])\n",
    "plt.xlabel('Age')\n",
    "plt.ylabel('Count of Brain Strokes')\n",
    "plt.title('Comparing Brain Stroke in patients based on age')\n",
    "plt.show()'''\n",
    "sns.displot(df_brain, x=\"age\", hue=\"brain_stroke\",height=8,aspect=20/8)"
   ]
  },
  {
   "cell_type": "markdown",
   "id": "d4e5dc56",
   "metadata": {},
   "source": [
    "As per the grapical analysis, people over the age of 40 have high chances of getting Brain stroke"
   ]
  },
  {
   "cell_type": "code",
   "execution_count": null,
   "id": "474b2911",
   "metadata": {},
   "outputs": [],
   "source": []
  }
 ],
 "metadata": {
  "kernelspec": {
   "display_name": "Python 3 (ipykernel)",
   "language": "python",
   "name": "python3"
  },
  "language_info": {
   "codemirror_mode": {
    "name": "ipython",
    "version": 3
   },
   "file_extension": ".py",
   "mimetype": "text/x-python",
   "name": "python",
   "nbconvert_exporter": "python",
   "pygments_lexer": "ipython3",
   "version": "3.9.12"
  }
 },
 "nbformat": 4,
 "nbformat_minor": 5
}
